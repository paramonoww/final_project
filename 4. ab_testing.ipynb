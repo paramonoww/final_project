{
 "cells": [
  {
   "cell_type": "markdown",
   "id": "ab5d32b7",
   "metadata": {},
   "source": [
    "# Проект по A/B-тестированию\n",
    "\n",
    "### Задача:\n",
    "\n",
    "***Провести оценку результатов A/B-теста. В распоряжении датасет с действиями пользователей, техническое задание и несколько вспомогательных датасетов.***\n",
    "- *Оценить корректность проведения теста*\n",
    "- *Проанализировать результаты теста*\n",
    "\n",
    "***Чтобы оценить корректность проведения теста, надо проверить:***\n",
    "- *Пересечение тестовой аудитории с конкурирующим тестом*\n",
    "- *Совпадение теста и маркетинговых событий, другие проблемы временных границ теста*\n",
    "---\n",
    "### Техническое задание:\n",
    "\n",
    "- *Название теста: `recommender_system_test`*\n",
    "- *Группы:*\n",
    "    - *A - контрольная*\n",
    "    - *B - новая платежная воронка*\n",
    "- *Даты:*\n",
    "    - *Дата запуска: `2020-12-07`*\n",
    "    - *Дата остановки набора новых пользователей: `2020-12-21`*\n",
    "    - *Дата остановки: `2021-01-04`*\n",
    "- *Аудитория: 15% новых пользователей из региона EU*\n",
    "- *Назначение теста: тестирование изменений, связанных с внедрением улучшенной рекомендательной системы*\n",
    "- *Ожидаемое кол-во участников теста: 6000*\n",
    "- *Ожидаемый эффект: за 14 дней с момента регистрации в системе пользователи покажут улучшение каждой метрики не менее, чем на 10%:*\n",
    "    - *конверсия в просмотр карточки товаров - событие `product_page`*\n",
    "    - *просмотры корзины - `product_cart`*\n",
    "    - *покупки - `purchase`*\n",
    "    \n",
    "*Загрузите данные теста, проверьте корректность его проведения и проанализируйте полученные результаты.*"
   ]
  },
  {
   "cell_type": "markdown",
   "id": "2947e0e8",
   "metadata": {},
   "source": [
    "---\n",
    "### *Подготовка к анализу A/B-теста*\n",
    "#### *Импорт нужных библиотек*"
   ]
  },
  {
   "cell_type": "code",
   "execution_count": 526,
   "id": "bb0017f8",
   "metadata": {},
   "outputs": [],
   "source": [
    "import pandas as pd\n",
    "import numpy as np\n",
    "import seaborn as sns\n",
    "import math as mth\n",
    "\n",
    "from plotly import graph_objects as go\n",
    "from matplotlib import pyplot as plt\n",
    "from scipy import stats as st\n",
    "\n",
    "from datetime import datetime\n",
    "from datetime import date\n",
    "from datetime import timedelta"
   ]
  },
  {
   "cell_type": "markdown",
   "id": "e55d6c2b",
   "metadata": {},
   "source": [
    "#### *Загрузка датасетов*"
   ]
  },
  {
   "cell_type": "code",
   "execution_count": 527,
   "id": "fb3b43c9",
   "metadata": {},
   "outputs": [],
   "source": [
    "try:\n",
    "    final_ab_events = pd.read_csv('final_ab_events.csv')\n",
    "    final_ab_new_users = pd.read_csv('final_ab_new_users.csv')\n",
    "    final_ab_participants = pd.read_csv('final_ab_participants.csv')\n",
    "    ab_project_marketing_events = pd.read_csv('ab_project_marketing_events.csv')\n",
    "except:\n",
    "    final_ab_events = pd.read_csv('/datasets/final_ab_events.csv')\n",
    "    final_ab_new_users = pd.read_csv('/datasets/final_ab_new_users.csv')\n",
    "    final_ab_participants = pd.read_csv('/datasets/final_ab_participants.csv')\n",
    "    ab_project_marketing_events = pd.read_csv('/datasets/ab_project_marketing_events.csv')\n",
    "    \n",
    "pd.set_option('precision', 2)\n",
    "pd.set_option('display.float_format', lambda x: '%.3f' % x)"
   ]
  },
  {
   "cell_type": "markdown",
   "id": "41df036c",
   "metadata": {},
   "source": [
    "#### *Краткий взгляд на данные*"
   ]
  },
  {
   "cell_type": "code",
   "execution_count": 528,
   "id": "f01b8e0d",
   "metadata": {},
   "outputs": [
    {
     "data": {
      "text/html": [
       "<div>\n",
       "<style scoped>\n",
       "    .dataframe tbody tr th:only-of-type {\n",
       "        vertical-align: middle;\n",
       "    }\n",
       "\n",
       "    .dataframe tbody tr th {\n",
       "        vertical-align: top;\n",
       "    }\n",
       "\n",
       "    .dataframe thead th {\n",
       "        text-align: right;\n",
       "    }\n",
       "</style>\n",
       "<table border=\"1\" class=\"dataframe\">\n",
       "  <thead>\n",
       "    <tr style=\"text-align: right;\">\n",
       "      <th></th>\n",
       "      <th>user_id</th>\n",
       "      <th>event_dt</th>\n",
       "      <th>event_name</th>\n",
       "      <th>details</th>\n",
       "    </tr>\n",
       "  </thead>\n",
       "  <tbody>\n",
       "    <tr>\n",
       "      <th>0</th>\n",
       "      <td>E1BDDCE0DAFA2679</td>\n",
       "      <td>2020-12-07 20:22:03</td>\n",
       "      <td>purchase</td>\n",
       "      <td>99.990</td>\n",
       "    </tr>\n",
       "    <tr>\n",
       "      <th>1</th>\n",
       "      <td>7B6452F081F49504</td>\n",
       "      <td>2020-12-07 09:22:53</td>\n",
       "      <td>purchase</td>\n",
       "      <td>9.990</td>\n",
       "    </tr>\n",
       "    <tr>\n",
       "      <th>2</th>\n",
       "      <td>9CD9F34546DF254C</td>\n",
       "      <td>2020-12-07 12:59:29</td>\n",
       "      <td>purchase</td>\n",
       "      <td>4.990</td>\n",
       "    </tr>\n",
       "    <tr>\n",
       "      <th>3</th>\n",
       "      <td>96F27A054B191457</td>\n",
       "      <td>2020-12-07 04:02:40</td>\n",
       "      <td>purchase</td>\n",
       "      <td>4.990</td>\n",
       "    </tr>\n",
       "    <tr>\n",
       "      <th>4</th>\n",
       "      <td>1FD7660FDF94CA1F</td>\n",
       "      <td>2020-12-07 10:15:09</td>\n",
       "      <td>purchase</td>\n",
       "      <td>4.990</td>\n",
       "    </tr>\n",
       "  </tbody>\n",
       "</table>\n",
       "</div>"
      ],
      "text/plain": [
       "            user_id             event_dt event_name  details\n",
       "0  E1BDDCE0DAFA2679  2020-12-07 20:22:03   purchase   99.990\n",
       "1  7B6452F081F49504  2020-12-07 09:22:53   purchase    9.990\n",
       "2  9CD9F34546DF254C  2020-12-07 12:59:29   purchase    4.990\n",
       "3  96F27A054B191457  2020-12-07 04:02:40   purchase    4.990\n",
       "4  1FD7660FDF94CA1F  2020-12-07 10:15:09   purchase    4.990"
      ]
     },
     "metadata": {},
     "output_type": "display_data"
    },
    {
     "data": {
      "text/html": [
       "<div>\n",
       "<style scoped>\n",
       "    .dataframe tbody tr th:only-of-type {\n",
       "        vertical-align: middle;\n",
       "    }\n",
       "\n",
       "    .dataframe tbody tr th {\n",
       "        vertical-align: top;\n",
       "    }\n",
       "\n",
       "    .dataframe thead th {\n",
       "        text-align: right;\n",
       "    }\n",
       "</style>\n",
       "<table border=\"1\" class=\"dataframe\">\n",
       "  <thead>\n",
       "    <tr style=\"text-align: right;\">\n",
       "      <th></th>\n",
       "      <th>user_id</th>\n",
       "      <th>first_date</th>\n",
       "      <th>region</th>\n",
       "      <th>device</th>\n",
       "    </tr>\n",
       "  </thead>\n",
       "  <tbody>\n",
       "    <tr>\n",
       "      <th>0</th>\n",
       "      <td>D72A72121175D8BE</td>\n",
       "      <td>2020-12-07</td>\n",
       "      <td>EU</td>\n",
       "      <td>PC</td>\n",
       "    </tr>\n",
       "    <tr>\n",
       "      <th>1</th>\n",
       "      <td>F1C668619DFE6E65</td>\n",
       "      <td>2020-12-07</td>\n",
       "      <td>N.America</td>\n",
       "      <td>Android</td>\n",
       "    </tr>\n",
       "    <tr>\n",
       "      <th>2</th>\n",
       "      <td>2E1BF1D4C37EA01F</td>\n",
       "      <td>2020-12-07</td>\n",
       "      <td>EU</td>\n",
       "      <td>PC</td>\n",
       "    </tr>\n",
       "    <tr>\n",
       "      <th>3</th>\n",
       "      <td>50734A22C0C63768</td>\n",
       "      <td>2020-12-07</td>\n",
       "      <td>EU</td>\n",
       "      <td>iPhone</td>\n",
       "    </tr>\n",
       "    <tr>\n",
       "      <th>4</th>\n",
       "      <td>E1BDDCE0DAFA2679</td>\n",
       "      <td>2020-12-07</td>\n",
       "      <td>N.America</td>\n",
       "      <td>iPhone</td>\n",
       "    </tr>\n",
       "  </tbody>\n",
       "</table>\n",
       "</div>"
      ],
      "text/plain": [
       "            user_id  first_date     region   device\n",
       "0  D72A72121175D8BE  2020-12-07         EU       PC\n",
       "1  F1C668619DFE6E65  2020-12-07  N.America  Android\n",
       "2  2E1BF1D4C37EA01F  2020-12-07         EU       PC\n",
       "3  50734A22C0C63768  2020-12-07         EU   iPhone\n",
       "4  E1BDDCE0DAFA2679  2020-12-07  N.America   iPhone"
      ]
     },
     "metadata": {},
     "output_type": "display_data"
    },
    {
     "data": {
      "text/html": [
       "<div>\n",
       "<style scoped>\n",
       "    .dataframe tbody tr th:only-of-type {\n",
       "        vertical-align: middle;\n",
       "    }\n",
       "\n",
       "    .dataframe tbody tr th {\n",
       "        vertical-align: top;\n",
       "    }\n",
       "\n",
       "    .dataframe thead th {\n",
       "        text-align: right;\n",
       "    }\n",
       "</style>\n",
       "<table border=\"1\" class=\"dataframe\">\n",
       "  <thead>\n",
       "    <tr style=\"text-align: right;\">\n",
       "      <th></th>\n",
       "      <th>user_id</th>\n",
       "      <th>group</th>\n",
       "      <th>ab_test</th>\n",
       "    </tr>\n",
       "  </thead>\n",
       "  <tbody>\n",
       "    <tr>\n",
       "      <th>0</th>\n",
       "      <td>D1ABA3E2887B6A73</td>\n",
       "      <td>A</td>\n",
       "      <td>recommender_system_test</td>\n",
       "    </tr>\n",
       "    <tr>\n",
       "      <th>1</th>\n",
       "      <td>A7A3664BD6242119</td>\n",
       "      <td>A</td>\n",
       "      <td>recommender_system_test</td>\n",
       "    </tr>\n",
       "    <tr>\n",
       "      <th>2</th>\n",
       "      <td>DABC14FDDFADD29E</td>\n",
       "      <td>A</td>\n",
       "      <td>recommender_system_test</td>\n",
       "    </tr>\n",
       "    <tr>\n",
       "      <th>3</th>\n",
       "      <td>04988C5DF189632E</td>\n",
       "      <td>A</td>\n",
       "      <td>recommender_system_test</td>\n",
       "    </tr>\n",
       "    <tr>\n",
       "      <th>4</th>\n",
       "      <td>482F14783456D21B</td>\n",
       "      <td>B</td>\n",
       "      <td>recommender_system_test</td>\n",
       "    </tr>\n",
       "  </tbody>\n",
       "</table>\n",
       "</div>"
      ],
      "text/plain": [
       "            user_id group                  ab_test\n",
       "0  D1ABA3E2887B6A73     A  recommender_system_test\n",
       "1  A7A3664BD6242119     A  recommender_system_test\n",
       "2  DABC14FDDFADD29E     A  recommender_system_test\n",
       "3  04988C5DF189632E     A  recommender_system_test\n",
       "4  482F14783456D21B     B  recommender_system_test"
      ]
     },
     "metadata": {},
     "output_type": "display_data"
    },
    {
     "data": {
      "text/html": [
       "<div>\n",
       "<style scoped>\n",
       "    .dataframe tbody tr th:only-of-type {\n",
       "        vertical-align: middle;\n",
       "    }\n",
       "\n",
       "    .dataframe tbody tr th {\n",
       "        vertical-align: top;\n",
       "    }\n",
       "\n",
       "    .dataframe thead th {\n",
       "        text-align: right;\n",
       "    }\n",
       "</style>\n",
       "<table border=\"1\" class=\"dataframe\">\n",
       "  <thead>\n",
       "    <tr style=\"text-align: right;\">\n",
       "      <th></th>\n",
       "      <th>name</th>\n",
       "      <th>regions</th>\n",
       "      <th>start_dt</th>\n",
       "      <th>finish_dt</th>\n",
       "    </tr>\n",
       "  </thead>\n",
       "  <tbody>\n",
       "    <tr>\n",
       "      <th>0</th>\n",
       "      <td>Christmas&amp;New Year Promo</td>\n",
       "      <td>EU, N.America</td>\n",
       "      <td>2020-12-25</td>\n",
       "      <td>2021-01-03</td>\n",
       "    </tr>\n",
       "    <tr>\n",
       "      <th>1</th>\n",
       "      <td>St. Valentine's Day Giveaway</td>\n",
       "      <td>EU, CIS, APAC, N.America</td>\n",
       "      <td>2020-02-14</td>\n",
       "      <td>2020-02-16</td>\n",
       "    </tr>\n",
       "    <tr>\n",
       "      <th>2</th>\n",
       "      <td>St. Patric's Day Promo</td>\n",
       "      <td>EU, N.America</td>\n",
       "      <td>2020-03-17</td>\n",
       "      <td>2020-03-19</td>\n",
       "    </tr>\n",
       "    <tr>\n",
       "      <th>3</th>\n",
       "      <td>Easter Promo</td>\n",
       "      <td>EU, CIS, APAC, N.America</td>\n",
       "      <td>2020-04-12</td>\n",
       "      <td>2020-04-19</td>\n",
       "    </tr>\n",
       "    <tr>\n",
       "      <th>4</th>\n",
       "      <td>4th of July Promo</td>\n",
       "      <td>N.America</td>\n",
       "      <td>2020-07-04</td>\n",
       "      <td>2020-07-11</td>\n",
       "    </tr>\n",
       "  </tbody>\n",
       "</table>\n",
       "</div>"
      ],
      "text/plain": [
       "                           name                   regions    start_dt  \\\n",
       "0      Christmas&New Year Promo             EU, N.America  2020-12-25   \n",
       "1  St. Valentine's Day Giveaway  EU, CIS, APAC, N.America  2020-02-14   \n",
       "2        St. Patric's Day Promo             EU, N.America  2020-03-17   \n",
       "3                  Easter Promo  EU, CIS, APAC, N.America  2020-04-12   \n",
       "4             4th of July Promo                 N.America  2020-07-04   \n",
       "\n",
       "    finish_dt  \n",
       "0  2021-01-03  \n",
       "1  2020-02-16  \n",
       "2  2020-03-19  \n",
       "3  2020-04-19  \n",
       "4  2020-07-11  "
      ]
     },
     "metadata": {},
     "output_type": "display_data"
    }
   ],
   "source": [
    "display(\n",
    "    final_ab_events.head(),\n",
    "    final_ab_new_users.head(),\n",
    "    final_ab_participants.head(),\n",
    "    ab_project_marketing_events.head()\n",
    ")"
   ]
  },
  {
   "cell_type": "markdown",
   "id": "659fad8a",
   "metadata": {},
   "source": [
    "#### *Описание данных*\n",
    "- `/datasets/ab_project_marketing_events.csv` *— календарь маркетинговых событий на 2020 год:*\n",
    "    - `name` *— название маркетингового события*\n",
    "    - `regions` *— регионы, в которых будет проводиться рекламная кампания*\n",
    "    - `start_dt` *— дата начала кампании*\n",
    "    - `finish_dt` *— дата завершения кампании*\n",
    "---\n",
    "- `/datasets/final_ab_new_users.csv` *— все пользователи, зарегистрировавшиеся в интернет-магазине в период с 7 по 21 декабря 2020 года:*\n",
    "    - `user_id` — *идентификатор пользователя*\n",
    "    - `first_date` — *дата регистрации*\n",
    "    - `region` — *регион пользователя*\n",
    "    - `device` — *устройство, с которого происходила регистрация*\n",
    "---\n",
    "- `/datasets/final_ab_events.csv` *— все события новых пользователей в период с 7 декабря 2020 по 4 января 2021 года:*\n",
    "    - `user_id` *— идентификатор пользователя*\n",
    "    - `event_dt` *— дата и время события*\n",
    "    - `event_name` *— тип события*\n",
    "    - `details` — *дополнительные данные о событии. Например, для покупок, `purchase`, в этом поле хранится стоимость покупки в долларах*\n",
    "---\n",
    "- `/datasets/final_ab_participants.csv` *— таблица участников тестов:*\n",
    "    - `user_id` *— идентификатор пользователя*\n",
    "    - `ab_test` *— название теста*\n",
    "    - `group` *— группа пользователя*"
   ]
  },
  {
   "cell_type": "markdown",
   "id": "33e3c269",
   "metadata": {},
   "source": [
    "#### *Промежуточные выводы:*\n",
    "- *На первый взгляд данные кажутся чистыми, видим, что есть довольно много информации и колонок, будет приятно работать дальше.*"
   ]
  },
  {
   "cell_type": "markdown",
   "id": "8c989063",
   "metadata": {},
   "source": [
    "---\n",
    "### *Предобработка данных*"
   ]
  },
  {
   "cell_type": "markdown",
   "id": "a59d553e",
   "metadata": {},
   "source": [
    "#### *Названия столбцов*\n",
    "*Названия столбцов в хорошем нижнем регистре в snake_case, поэтому можно оставить как есть.*"
   ]
  },
  {
   "cell_type": "markdown",
   "id": "3e5451b2",
   "metadata": {},
   "source": [
    "#### *Типы данных в столбцах*"
   ]
  },
  {
   "cell_type": "code",
   "execution_count": 529,
   "id": "546da79e",
   "metadata": {},
   "outputs": [
    {
     "name": "stdout",
     "output_type": "stream",
     "text": [
      "Типы данных в final_ab_events:\n"
     ]
    },
    {
     "data": {
      "text/plain": [
       "user_id        object\n",
       "event_dt       object\n",
       "event_name     object\n",
       "details       float64\n",
       "dtype: object"
      ]
     },
     "metadata": {},
     "output_type": "display_data"
    },
    {
     "name": "stdout",
     "output_type": "stream",
     "text": [
      "Типы данных в final_ab_new_users:\n"
     ]
    },
    {
     "data": {
      "text/plain": [
       "user_id       object\n",
       "first_date    object\n",
       "region        object\n",
       "device        object\n",
       "dtype: object"
      ]
     },
     "metadata": {},
     "output_type": "display_data"
    },
    {
     "name": "stdout",
     "output_type": "stream",
     "text": [
      "Типы данных в final_ab_participants:\n"
     ]
    },
    {
     "data": {
      "text/plain": [
       "user_id    object\n",
       "group      object\n",
       "ab_test    object\n",
       "dtype: object"
      ]
     },
     "metadata": {},
     "output_type": "display_data"
    },
    {
     "name": "stdout",
     "output_type": "stream",
     "text": [
      "Типы данных в ab_project_marketing_events:\n"
     ]
    },
    {
     "data": {
      "text/plain": [
       "name         object\n",
       "regions      object\n",
       "start_dt     object\n",
       "finish_dt    object\n",
       "dtype: object"
      ]
     },
     "metadata": {},
     "output_type": "display_data"
    }
   ],
   "source": [
    "print('Типы данных в final_ab_events:')\n",
    "display(final_ab_events.dtypes)\n",
    "\n",
    "print('Типы данных в final_ab_new_users:')\n",
    "display(final_ab_new_users.dtypes)\n",
    "\n",
    "print('Типы данных в final_ab_participants:')\n",
    "display(final_ab_participants.dtypes)\n",
    "\n",
    "print('Типы данных в ab_project_marketing_events:')\n",
    "display(ab_project_marketing_events.dtypes)"
   ]
  },
  {
   "cell_type": "markdown",
   "id": "c312983f",
   "metadata": {},
   "source": [
    "***Какие типы в столбцах будем менять:***\n",
    "\n",
    "- `final_ab_events`:\n",
    "    - `event_dt`: object --> datetime\n",
    "- `final_ab_new_users`:\n",
    "    - `first_date`: object --> datetime\n",
    "- `ab_project_marketing_events`:\n",
    "    - `start_dt`: object --> datetime\n",
    "    - `finish_dt`: object --> datetime"
   ]
  },
  {
   "cell_type": "code",
   "execution_count": 530,
   "id": "7a0b5c49",
   "metadata": {},
   "outputs": [],
   "source": [
    "final_ab_events['event_dt'] = pd.to_datetime(final_ab_events['event_dt'])\n",
    "final_ab_new_users['first_date'] = pd.to_datetime(final_ab_new_users['first_date'])\n",
    "\n",
    "ab_project_marketing_events['start_dt'] = pd.to_datetime(ab_project_marketing_events['start_dt'])\n",
    "ab_project_marketing_events['finish_dt'] = pd.to_datetime(ab_project_marketing_events['finish_dt'])"
   ]
  },
  {
   "cell_type": "markdown",
   "id": "96ceaac7",
   "metadata": {},
   "source": [
    "#### *Дубликаты*"
   ]
  },
  {
   "cell_type": "code",
   "execution_count": 531,
   "id": "50e52541",
   "metadata": {},
   "outputs": [
    {
     "name": "stdout",
     "output_type": "stream",
     "text": [
      "Процент дубликатов в final_ab_events: 0.0%\n",
      "Процент дубликатов в final_ab_new_users: 0.0%\n",
      "Процент дубликатов в final_ab_participants: 0.0%\n",
      "Процент дубликатов в ab_project_marketing_events: 0.0%\n"
     ]
    }
   ],
   "source": [
    "print(f'Процент дубликатов в final_ab_events: {round(final_ab_events.duplicated().sum() / final_ab_events.shape[0] * 100,4)}%')\n",
    "print(f'Процент дубликатов в final_ab_new_users: {round(final_ab_new_users.duplicated().sum() / final_ab_new_users.shape[0] * 100,4)}%')\n",
    "print(f'Процент дубликатов в final_ab_participants: {round(final_ab_participants.duplicated().sum() / final_ab_participants.shape[0] * 100,4)}%')\n",
    "print(f'Процент дубликатов в ab_project_marketing_events: {round(ab_project_marketing_events.duplicated().sum() / ab_project_marketing_events.shape[0] * 100,4)}%')"
   ]
  },
  {
   "cell_type": "markdown",
   "id": "c5a2556b",
   "metadata": {},
   "source": [
    "*Отлично, дубликатов нет.*"
   ]
  },
  {
   "cell_type": "markdown",
   "id": "06870ea0",
   "metadata": {},
   "source": [
    "#### *Пропущенные значения*"
   ]
  },
  {
   "cell_type": "code",
   "execution_count": 532,
   "id": "681af3f5",
   "metadata": {},
   "outputs": [
    {
     "name": "stdout",
     "output_type": "stream",
     "text": [
      "Пропуски в final_ab_events:\n"
     ]
    },
    {
     "data": {
      "text/plain": [
       "user_id            0\n",
       "event_dt           0\n",
       "event_name         0\n",
       "details       377577\n",
       "dtype: int64"
      ]
     },
     "metadata": {},
     "output_type": "display_data"
    },
    {
     "name": "stdout",
     "output_type": "stream",
     "text": [
      "Пропуски в final_ab_new_users:\n"
     ]
    },
    {
     "data": {
      "text/plain": [
       "user_id       0\n",
       "first_date    0\n",
       "region        0\n",
       "device        0\n",
       "dtype: int64"
      ]
     },
     "metadata": {},
     "output_type": "display_data"
    },
    {
     "name": "stdout",
     "output_type": "stream",
     "text": [
      "Пропуски в final_ab_participants:\n"
     ]
    },
    {
     "data": {
      "text/plain": [
       "user_id    0\n",
       "group      0\n",
       "ab_test    0\n",
       "dtype: int64"
      ]
     },
     "metadata": {},
     "output_type": "display_data"
    },
    {
     "name": "stdout",
     "output_type": "stream",
     "text": [
      "Пропуски в ab_project_marketing_events:\n"
     ]
    },
    {
     "data": {
      "text/plain": [
       "name         0\n",
       "regions      0\n",
       "start_dt     0\n",
       "finish_dt    0\n",
       "dtype: int64"
      ]
     },
     "metadata": {},
     "output_type": "display_data"
    }
   ],
   "source": [
    "print('Пропуски в final_ab_events:')\n",
    "display(final_ab_events.isna().sum())\n",
    "\n",
    "print('Пропуски в final_ab_new_users:')\n",
    "display(final_ab_new_users.isna().sum())\n",
    "\n",
    "print('Пропуски в final_ab_participants:')\n",
    "display(final_ab_participants.isna().sum())\n",
    "\n",
    "print('Пропуски в ab_project_marketing_events:')\n",
    "display(ab_project_marketing_events.isna().sum())"
   ]
  },
  {
   "cell_type": "markdown",
   "id": "87bbe9e0",
   "metadata": {},
   "source": [
    "*Пропуски есть только в `final_ab_events` в `details`, исследуем их.*"
   ]
  },
  {
   "cell_type": "code",
   "execution_count": 533,
   "id": "16434e59",
   "metadata": {},
   "outputs": [
    {
     "name": "stdout",
     "output_type": "stream",
     "text": [
      "Значения столбца event_name, в строчках с пропусками в details: ['product_cart', 'product_page', 'login']\n",
      "Значения столбца event_name, в строчках без пропусков в details: ['purchase']\n",
      "\n",
      "Уникальные значения в столбце details: [99.99, 9.99, 4.99, 499.99, nan]\n"
     ]
    }
   ],
   "source": [
    "temp1 = list(final_ab_events[final_ab_events.details.isna() == True].event_name.unique())\n",
    "print(f'Значения столбца event_name, в строчках с пропусками в details: {temp1}')\n",
    "\n",
    "temp2 = list(final_ab_events[final_ab_events.details.isna() == False].event_name.unique())\n",
    "print(f'Значения столбца event_name, в строчках без пропусков в details: {temp2}', end = '\\n\\n')\n",
    "\n",
    "print(f'Уникальные значения в столбце details: {list(final_ab_events.details.unique())}')"
   ]
  },
  {
   "cell_type": "markdown",
   "id": "685e9ab8",
   "metadata": {},
   "source": [
    "*Столбец **details** заполняется только если там есть событие `purchase`, заполним нулями пропущенные значения.*"
   ]
  },
  {
   "cell_type": "code",
   "execution_count": 534,
   "id": "a37d7056",
   "metadata": {},
   "outputs": [],
   "source": [
    "# заполняем нулями столбец details\n",
    "\n",
    "final_ab_events['details'] = final_ab_events['details'].fillna(0)"
   ]
  },
  {
   "cell_type": "markdown",
   "id": "b77d0bf6",
   "metadata": {},
   "source": [
    "***Итоги предобработки данных:***\n",
    "1. *Заменили типы данных в некоторых столбцах*\n",
    "2. *Дубликатов в датасетах не оказалось*\n",
    "3. *Пропуски были только в одном столбце, заполнили их нулями, чтобы не потерять данные*"
   ]
  },
  {
   "cell_type": "markdown",
   "id": "e60de478",
   "metadata": {},
   "source": [
    "---\n",
    "### *Оценка корректности проведения теста*\n",
    "\n",
    "#### *Соответствие данных требованиям технического задания. Проверьте корректность всех пунктов технического задания*"
   ]
  },
  {
   "cell_type": "markdown",
   "id": "198b4272",
   "metadata": {},
   "source": [
    "***1. Название теста: `recommender_system_test`***"
   ]
  },
  {
   "cell_type": "code",
   "execution_count": 535,
   "id": "e3d1eceb",
   "metadata": {},
   "outputs": [
    {
     "name": "stdout",
     "output_type": "stream",
     "text": [
      "Тесты в final_ab_participants: ['recommender_system_test' 'interface_eu_test']\n"
     ]
    }
   ],
   "source": [
    "print(f'Тесты в final_ab_participants: {final_ab_participants.ab_test.unique()}')"
   ]
  },
  {
   "cell_type": "markdown",
   "id": "a5d8e7ce",
   "metadata": {},
   "source": [
    "*В датасете есть еще тест `interface_eu_test`, который не подходит по ТЗ, разделим их на 2 датасета и проверим есть ли пересекающиеся пользователи в обоих тестах, если есть, то избавимся от них.*"
   ]
  },
  {
   "cell_type": "code",
   "execution_count": 536,
   "id": "e6a3b6be",
   "metadata": {},
   "outputs": [
    {
     "name": "stdout",
     "output_type": "stream",
     "text": [
      "Кол-во пользователей, попавших в оба теста: 1602\n"
     ]
    }
   ],
   "source": [
    "# выделяем 2 датасета с тестами\n",
    "\n",
    "interface_eu_test = final_ab_participants.query('ab_test == \"interface_eu_test\"')\n",
    "recommender_system_test = final_ab_participants.query('ab_test == \"recommender_system_test\"')\n",
    "\n",
    "# объединяем их\n",
    "\n",
    "tests_splitted = interface_eu_test.merge(recommender_system_test, how = 'inner', on = 'user_id')\n",
    "\n",
    "print(f'Кол-во пользователей, попавших в оба теста: {tests_splitted.user_id.nunique()}')"
   ]
  },
  {
   "cell_type": "code",
   "execution_count": 537,
   "id": "9b66b6b0",
   "metadata": {},
   "outputs": [],
   "source": [
    "# исключим этих пользователей из датасета и также ненужный тест\n",
    "\n",
    "temp = tests_splitted['user_id'].unique()\n",
    "\n",
    "final_ab_participants = final_ab_participants.query('user_id not in @temp and ab_test == \"recommender_system_test\"')"
   ]
  },
  {
   "cell_type": "markdown",
   "id": "93a84d81",
   "metadata": {},
   "source": [
    "2. ***Группы:***\n",
    "    - *A - контрольная*\n",
    "    - *B - новая платежная воронка*"
   ]
  },
  {
   "cell_type": "code",
   "execution_count": 538,
   "id": "7781cf95",
   "metadata": {},
   "outputs": [
    {
     "name": "stdout",
     "output_type": "stream",
     "text": [
      "Нет пользователей, попавших в обе группы.\n"
     ]
    }
   ],
   "source": [
    "# проверяем, есть ли пользователи, попавшие в обе группы\n",
    "\n",
    "test_a = final_ab_participants.query('group == \"A\"')\n",
    "test_b = final_ab_participants.query('group == \"B\"')\n",
    "\n",
    "ab_splitted = test_a.merge(test_b, how = 'inner', on = 'user_id')\n",
    "\n",
    "if ab_splitted.empty:\n",
    "    print('Нет пользователей, попавших в обе группы.')\n",
    "else:\n",
    "    print('Есть пользователи, попавшие в обе группы.')"
   ]
  },
  {
   "cell_type": "markdown",
   "id": "10bd74d2",
   "metadata": {},
   "source": [
    "3. ***Даты:***\n",
    "    - *Дата запуска: `2020-12-07`*\n",
    "    - *Дата остановки набора новых пользователей: `2020-12-21`*\n",
    "    - *Дата остановки: `2021-01-04`*\n",
    "    - *`ab_project_marketing_events` — календарь маркетинговых событий на 2020 год*\n"
   ]
  },
  {
   "cell_type": "code",
   "execution_count": 539,
   "id": "c003cf7d",
   "metadata": {},
   "outputs": [
    {
     "name": "stdout",
     "output_type": "stream",
     "text": [
      "В ab_project_marketing_events события только за 2020 год.\n"
     ]
    }
   ],
   "source": [
    "# проверим, действительно ли ab_project_marketing_events только за 2020 год\n",
    "\n",
    "if ab_project_marketing_events.start_dt.min().year == 2020 and ab_project_marketing_events.start_dt.max().year == 2020:\n",
    "    print('В ab_project_marketing_events события только за 2020 год.')\n",
    "else:\n",
    "    print('В ab_project_marketing_events есть события не только за 2020 год.')"
   ]
  },
  {
   "cell_type": "code",
   "execution_count": 540,
   "id": "1161a8be",
   "metadata": {},
   "outputs": [
    {
     "name": "stdout",
     "output_type": "stream",
     "text": [
      "Стартовая дата набора новых пользователей: 2020-12-07 00:00:00\n",
      "Последняя дата набора новых пользователей: 2020-12-23 00:00:00\n"
     ]
    }
   ],
   "source": [
    "# проверим сроки набора пользователей с 7 по 21 декабря 2020 года\n",
    "\n",
    "print(f'Стартовая дата набора новых пользователей: {final_ab_new_users.first_date.min()}')\n",
    "print(f'Последняя дата набора новых пользователей: {final_ab_new_users.first_date.max()}')"
   ]
  },
  {
   "cell_type": "markdown",
   "id": "5b117a31",
   "metadata": {},
   "source": [
    "*Есть несовпадения по всем пользователям, но проверим, есть ли несовпадения по нашим участникам.*"
   ]
  },
  {
   "cell_type": "code",
   "execution_count": 541,
   "id": "c7b9a346",
   "metadata": {},
   "outputs": [
    {
     "name": "stdout",
     "output_type": "stream",
     "text": [
      "Стартовая дата набора новых пользователей для теста: 2020-12-07 00:00:00\n",
      "Последняя дата набора новых пользователей для теста: 2020-12-21 00:00:00\n"
     ]
    }
   ],
   "source": [
    "# смотрим, кто из пользователей стали участниками теста\n",
    "\n",
    "temp = final_ab_new_users.query('user_id in @final_ab_participants.user_id')\n",
    "\n",
    "# смотрим, попали ли они в нужные даты\n",
    "print(f'Стартовая дата набора новых пользователей для теста: {temp.first_date.min()}')\n",
    "print(f'Последняя дата набора новых пользователей для теста: {temp.first_date.max()}')"
   ]
  },
  {
   "cell_type": "markdown",
   "id": "5453545e",
   "metadata": {},
   "source": [
    "*Для пользователей из теста всё оказалось нормально.*"
   ]
  },
  {
   "cell_type": "code",
   "execution_count": 542,
   "id": "5a0769e0",
   "metadata": {},
   "outputs": [
    {
     "name": "stdout",
     "output_type": "stream",
     "text": [
      "Начало A/B-теста: 2020-12-07 00:00:33\n",
      "Окончание A/B-теста: 2020-12-30 23:36:33\n"
     ]
    }
   ],
   "source": [
    "# проверим даты начала и остановки a/b-теста\n",
    "\n",
    "print(f'Начало A/B-теста: {final_ab_events.event_dt.min()}')\n",
    "print(f'Окончание A/B-теста: {final_ab_events.event_dt.max()}')\n"
   ]
  },
  {
   "cell_type": "markdown",
   "id": "fb739f1f",
   "metadata": {},
   "source": [
    "*По ТЗ тест должен заканчиваться **2021-01-04**, но он заканчивается раньше, что является ошибкой.*"
   ]
  },
  {
   "cell_type": "markdown",
   "id": "ebdaf97c",
   "metadata": {},
   "source": [
    "***4. Аудитория: 15% новых пользователей из региона EU***"
   ]
  },
  {
   "cell_type": "code",
   "execution_count": 543,
   "id": "085110a0",
   "metadata": {},
   "outputs": [
    {
     "name": "stdout",
     "output_type": "stream",
     "text": [
      "Доля пользователей из региона EU: 10.26%\n"
     ]
    }
   ],
   "source": [
    "# объединим таблицы, чтобы узнать соотношение\n",
    "\n",
    "temp = final_ab_participants.merge(final_ab_new_users, how = 'inner', on = 'user_id')\n",
    "\n",
    "# доля пользователей EU в recommender_system_test и общее кол-во пользователей из EU\n",
    "eu_new = temp[temp.region == \"EU\"].shape[0]\n",
    "eu_all = final_ab_new_users[final_ab_new_users.region == \"EU\"].shape[0]\n",
    "\n",
    "print(f'Доля пользователей из региона EU: {round(eu_new / eu_all * 100,2)}%')"
   ]
  },
  {
   "cell_type": "markdown",
   "id": "5f551901",
   "metadata": {},
   "source": [
    "*По ТЗ должно быть 15%, опять ошибка.*"
   ]
  },
  {
   "cell_type": "markdown",
   "id": "095d70b4",
   "metadata": {},
   "source": [
    "***5. Ожидаемое кол-во участников теста: 6000***"
   ]
  },
  {
   "cell_type": "code",
   "execution_count": 544,
   "id": "20483bcf",
   "metadata": {},
   "outputs": [
    {
     "name": "stdout",
     "output_type": "stream",
     "text": [
      "Кол-во участников в тесте: 5099\n"
     ]
    }
   ],
   "source": [
    "print(f'Кол-во участников в тесте: {final_ab_participants.shape[0]}')"
   ]
  },
  {
   "cell_type": "markdown",
   "id": "28d255c4",
   "metadata": {},
   "source": [
    "*По ТЗ должно быть 6000, снова недочёт.*"
   ]
  },
  {
   "cell_type": "markdown",
   "id": "d2bd988d",
   "metadata": {},
   "source": [
    "####  *Совпадение времени теста с временем проведения маркетинговых мероприятий.*\n",
    "\n",
    "*События новых пользователей происходили в период с 2020-12-07 по 2021-12-31.*"
   ]
  },
  {
   "cell_type": "code",
   "execution_count": 545,
   "id": "750e326e",
   "metadata": {},
   "outputs": [
    {
     "data": {
      "text/html": [
       "<div>\n",
       "<style scoped>\n",
       "    .dataframe tbody tr th:only-of-type {\n",
       "        vertical-align: middle;\n",
       "    }\n",
       "\n",
       "    .dataframe tbody tr th {\n",
       "        vertical-align: top;\n",
       "    }\n",
       "\n",
       "    .dataframe thead th {\n",
       "        text-align: right;\n",
       "    }\n",
       "</style>\n",
       "<table border=\"1\" class=\"dataframe\">\n",
       "  <thead>\n",
       "    <tr style=\"text-align: right;\">\n",
       "      <th></th>\n",
       "      <th>name</th>\n",
       "      <th>regions</th>\n",
       "      <th>start_dt</th>\n",
       "      <th>finish_dt</th>\n",
       "    </tr>\n",
       "  </thead>\n",
       "  <tbody>\n",
       "    <tr>\n",
       "      <th>0</th>\n",
       "      <td>Christmas&amp;New Year Promo</td>\n",
       "      <td>EU, N.America</td>\n",
       "      <td>2020-12-25</td>\n",
       "      <td>2021-01-03</td>\n",
       "    </tr>\n",
       "    <tr>\n",
       "      <th>10</th>\n",
       "      <td>CIS New Year Gift Lottery</td>\n",
       "      <td>CIS</td>\n",
       "      <td>2020-12-30</td>\n",
       "      <td>2021-01-07</td>\n",
       "    </tr>\n",
       "  </tbody>\n",
       "</table>\n",
       "</div>"
      ],
      "text/plain": [
       "                         name        regions   start_dt  finish_dt\n",
       "0    Christmas&New Year Promo  EU, N.America 2020-12-25 2021-01-03\n",
       "10  CIS New Year Gift Lottery            CIS 2020-12-30 2021-01-07"
      ]
     },
     "metadata": {},
     "output_type": "display_data"
    }
   ],
   "source": [
    "# проверим маркетинговые события в это время\n",
    "display(ab_project_marketing_events.query('(\"2020-12-07\" <= start_dt <= \"2021-12-31\") or (\"2020-12-07\" <= finish_dt <= \"2021-12-31\") or (start_dt < \"2020-12-07\" and finish_dt > \"2021-12-31\")'))"
   ]
  },
  {
   "cell_type": "code",
   "execution_count": 546,
   "id": "ca7637f8",
   "metadata": {},
   "outputs": [],
   "source": [
    "# объединяем 3 таблицы вместе\n",
    "\n",
    "big_table = final_ab_new_users.merge(final_ab_participants, on = 'user_id', how = 'inner')\n",
    "big_table = final_ab_events.merge(big_table, on = 'user_id', how = 'inner')\n",
    "\n",
    "# посмотрим на события во время маркетинговых компаний в регионах\n",
    "\n",
    "ny_eu_na = (big_table.query('region == \"EU\" or region == \"N.America\"')\n",
    "                     .query('\"2020-12-25\" <= event_dt < \"2021-01-03\"'))\n",
    "\n",
    "ny_cis = (big_table.query('region == \"CIS\"')\n",
    "                   .query('\"2020-12-30\" <= event_dt < \"2021-01-07\"'))"
   ]
  },
  {
   "cell_type": "code",
   "execution_count": 547,
   "id": "8976221b",
   "metadata": {},
   "outputs": [
    {
     "data": {
      "text/html": [
       "<div>\n",
       "<style scoped>\n",
       "    .dataframe tbody tr th:only-of-type {\n",
       "        vertical-align: middle;\n",
       "    }\n",
       "\n",
       "    .dataframe tbody tr th {\n",
       "        vertical-align: top;\n",
       "    }\n",
       "\n",
       "    .dataframe thead th {\n",
       "        text-align: right;\n",
       "    }\n",
       "</style>\n",
       "<table border=\"1\" class=\"dataframe\">\n",
       "  <thead>\n",
       "    <tr style=\"text-align: right;\">\n",
       "      <th></th>\n",
       "      <th>user_id</th>\n",
       "      <th>event_dt</th>\n",
       "      <th>event_name</th>\n",
       "      <th>details</th>\n",
       "      <th>first_date</th>\n",
       "      <th>region</th>\n",
       "      <th>device</th>\n",
       "      <th>group</th>\n",
       "      <th>ab_test</th>\n",
       "    </tr>\n",
       "  </thead>\n",
       "  <tbody>\n",
       "    <tr>\n",
       "      <th>94</th>\n",
       "      <td>DD5EBF41B1DCCB0E</td>\n",
       "      <td>2020-12-25 13:19:15</td>\n",
       "      <td>purchase</td>\n",
       "      <td>4.990</td>\n",
       "      <td>2020-12-07</td>\n",
       "      <td>EU</td>\n",
       "      <td>PC</td>\n",
       "      <td>A</td>\n",
       "      <td>recommender_system_test</td>\n",
       "    </tr>\n",
       "    <tr>\n",
       "      <th>98</th>\n",
       "      <td>DD5EBF41B1DCCB0E</td>\n",
       "      <td>2020-12-25 13:19:16</td>\n",
       "      <td>product_page</td>\n",
       "      <td>0.000</td>\n",
       "      <td>2020-12-07</td>\n",
       "      <td>EU</td>\n",
       "      <td>PC</td>\n",
       "      <td>A</td>\n",
       "      <td>recommender_system_test</td>\n",
       "    </tr>\n",
       "    <tr>\n",
       "      <th>102</th>\n",
       "      <td>DD5EBF41B1DCCB0E</td>\n",
       "      <td>2020-12-25 13:19:15</td>\n",
       "      <td>login</td>\n",
       "      <td>0.000</td>\n",
       "      <td>2020-12-07</td>\n",
       "      <td>EU</td>\n",
       "      <td>PC</td>\n",
       "      <td>A</td>\n",
       "      <td>recommender_system_test</td>\n",
       "    </tr>\n",
       "    <tr>\n",
       "      <th>117</th>\n",
       "      <td>5E0FE312B9349ADB</td>\n",
       "      <td>2020-12-29 08:10:50</td>\n",
       "      <td>purchase</td>\n",
       "      <td>4.990</td>\n",
       "      <td>2020-12-07</td>\n",
       "      <td>EU</td>\n",
       "      <td>Android</td>\n",
       "      <td>B</td>\n",
       "      <td>recommender_system_test</td>\n",
       "    </tr>\n",
       "    <tr>\n",
       "      <th>120</th>\n",
       "      <td>5E0FE312B9349ADB</td>\n",
       "      <td>2020-12-29 08:10:51</td>\n",
       "      <td>product_page</td>\n",
       "      <td>0.000</td>\n",
       "      <td>2020-12-07</td>\n",
       "      <td>EU</td>\n",
       "      <td>Android</td>\n",
       "      <td>B</td>\n",
       "      <td>recommender_system_test</td>\n",
       "    </tr>\n",
       "  </tbody>\n",
       "</table>\n",
       "</div>"
      ],
      "text/plain": [
       "              user_id            event_dt    event_name  details first_date  \\\n",
       "94   DD5EBF41B1DCCB0E 2020-12-25 13:19:15      purchase    4.990 2020-12-07   \n",
       "98   DD5EBF41B1DCCB0E 2020-12-25 13:19:16  product_page    0.000 2020-12-07   \n",
       "102  DD5EBF41B1DCCB0E 2020-12-25 13:19:15         login    0.000 2020-12-07   \n",
       "117  5E0FE312B9349ADB 2020-12-29 08:10:50      purchase    4.990 2020-12-07   \n",
       "120  5E0FE312B9349ADB 2020-12-29 08:10:51  product_page    0.000 2020-12-07   \n",
       "\n",
       "    region   device group                  ab_test  \n",
       "94      EU       PC     A  recommender_system_test  \n",
       "98      EU       PC     A  recommender_system_test  \n",
       "102     EU       PC     A  recommender_system_test  \n",
       "117     EU  Android     B  recommender_system_test  \n",
       "120     EU  Android     B  recommender_system_test  "
      ]
     },
     "metadata": {},
     "output_type": "display_data"
    },
    {
     "data": {
      "text/html": [
       "<div>\n",
       "<style scoped>\n",
       "    .dataframe tbody tr th:only-of-type {\n",
       "        vertical-align: middle;\n",
       "    }\n",
       "\n",
       "    .dataframe tbody tr th {\n",
       "        vertical-align: top;\n",
       "    }\n",
       "\n",
       "    .dataframe thead th {\n",
       "        text-align: right;\n",
       "    }\n",
       "</style>\n",
       "<table border=\"1\" class=\"dataframe\">\n",
       "  <thead>\n",
       "    <tr style=\"text-align: right;\">\n",
       "      <th></th>\n",
       "      <th>user_id</th>\n",
       "      <th>event_dt</th>\n",
       "      <th>event_name</th>\n",
       "      <th>details</th>\n",
       "      <th>first_date</th>\n",
       "      <th>region</th>\n",
       "      <th>device</th>\n",
       "      <th>group</th>\n",
       "      <th>ab_test</th>\n",
       "    </tr>\n",
       "  </thead>\n",
       "  <tbody>\n",
       "  </tbody>\n",
       "</table>\n",
       "</div>"
      ],
      "text/plain": [
       "Empty DataFrame\n",
       "Columns: [user_id, event_dt, event_name, details, first_date, region, device, group, ab_test]\n",
       "Index: []"
      ]
     },
     "metadata": {},
     "output_type": "display_data"
    }
   ],
   "source": [
    "display(ny_eu_na.head(), ny_cis.head())"
   ]
  },
  {
   "cell_type": "code",
   "execution_count": 548,
   "id": "1cf4bda8",
   "metadata": {},
   "outputs": [
    {
     "name": "stdout",
     "output_type": "stream",
     "text": [
      "Избавимся от 0.6% данных.\n"
     ]
    }
   ],
   "source": [
    "# считаем сколько % данных потеряем, если избавимся от событий во время акции\n",
    "\n",
    "print(f'Избавимся от {round(ny_eu_na.shape[0] / final_ab_events.shape[0] * 100,1)}% данных.')"
   ]
  },
  {
   "cell_type": "markdown",
   "id": "9b62a194",
   "metadata": {},
   "source": [
    "*Проводились 2 акции, маркетинговая акция для СНГ не никак не повлияли на A/B-тест, а для EU и NA повлияла, поэтому избавимся только от событий в эти даты для EU и NA пользователей.*"
   ]
  },
  {
   "cell_type": "code",
   "execution_count": 549,
   "id": "48e3c0ef",
   "metadata": {},
   "outputs": [
    {
     "name": "stdout",
     "output_type": "stream",
     "text": [
      "Кол-во строк до преобразования: 440317\n",
      "Кол-во строк после преобразования: 437867\n"
     ]
    }
   ],
   "source": [
    "# выделяем нужные там столбцы\n",
    "\n",
    "ny_eu_na = ny_eu_na[['user_id', 'event_dt' , 'event_name', 'details']]\n",
    "\n",
    "# избавляемся от строк в final_ab_events, которые есть в ny_eu_na\n",
    "\n",
    "print(f'Кол-во строк до преобразования: {final_ab_events.shape[0]}')\n",
    "\n",
    "final_ab_events = (final_ab_events.merge(ny_eu_na, indicator=True, how='outer')\n",
    "                                  .query('_merge==\"left_only\"')\n",
    "                                  .drop('_merge', axis=1))\n",
    "\n",
    "print(f'Кол-во строк после преобразования: {final_ab_events.shape[0]}')"
   ]
  },
  {
   "cell_type": "code",
   "execution_count": 550,
   "id": "ae853ebf",
   "metadata": {},
   "outputs": [
    {
     "name": "stdout",
     "output_type": "stream",
     "text": [
      "Кол-во пользователей в группах:\n"
     ]
    },
    {
     "data": {
      "text/html": [
       "<div>\n",
       "<style scoped>\n",
       "    .dataframe tbody tr th:only-of-type {\n",
       "        vertical-align: middle;\n",
       "    }\n",
       "\n",
       "    .dataframe tbody tr th {\n",
       "        vertical-align: top;\n",
       "    }\n",
       "\n",
       "    .dataframe thead th {\n",
       "        text-align: right;\n",
       "    }\n",
       "</style>\n",
       "<table border=\"1\" class=\"dataframe\">\n",
       "  <thead>\n",
       "    <tr style=\"text-align: right;\">\n",
       "      <th></th>\n",
       "      <th>group</th>\n",
       "      <th>count</th>\n",
       "    </tr>\n",
       "  </thead>\n",
       "  <tbody>\n",
       "    <tr>\n",
       "      <th>0</th>\n",
       "      <td>A</td>\n",
       "      <td>2903</td>\n",
       "    </tr>\n",
       "    <tr>\n",
       "      <th>1</th>\n",
       "      <td>B</td>\n",
       "      <td>2196</td>\n",
       "    </tr>\n",
       "  </tbody>\n",
       "</table>\n",
       "</div>"
      ],
      "text/plain": [
       "  group  count\n",
       "0     A   2903\n",
       "1     B   2196"
      ]
     },
     "metadata": {},
     "output_type": "display_data"
    }
   ],
   "source": [
    "users_amount = (final_ab_participants.groupby('group', as_index = False)\n",
    "                                     .user_id\n",
    "                                     .nunique()\n",
    "                                     .rename(columns = {\"user_id\" : 'count'}))\n",
    "print('Кол-во пользователей в группах:')\n",
    "display(users_amount)"
   ]
  },
  {
   "cell_type": "markdown",
   "id": "6c825017",
   "metadata": {},
   "source": [
    "*Также видим разное кол-во пользователей в обоих группах.*"
   ]
  },
  {
   "cell_type": "markdown",
   "id": "9f6cdd50",
   "metadata": {},
   "source": [
    "***Итоги оценки корректности проведения теста:***\n",
    "\n",
    "- *Нашли пользователей, пересекающихся в обоих тестах, удалили их, удалили данные из ненужного теста*\n",
    "- *Пользователей, попавших в обе группы не оказалось, но кол-во пользователей в группах сильно отличается*\n",
    "- *Удалили лишних новых пользователей, которые добавлялись после дедлайна*\n",
    "- *Также тест заканчивается раньше, чем было по ТЗ*\n",
    "- *Кол-во участников меньше, чем по ТЗ*\n",
    "- *Во время теста проводилось 2 маркетинговые компании, которые могли сильно повлиять на a/b-тест*"
   ]
  },
  {
   "cell_type": "markdown",
   "id": "c5a45c82",
   "metadata": {},
   "source": [
    "### *Исследовательский анализ данных*"
   ]
  },
  {
   "cell_type": "markdown",
   "id": "fd7a6751",
   "metadata": {},
   "source": [
    "#### *Количество событий на пользователя одинаково распределены в выборках?*"
   ]
  },
  {
   "cell_type": "code",
   "execution_count": 551,
   "id": "a6939fad",
   "metadata": {},
   "outputs": [
    {
     "name": "stdout",
     "output_type": "stream",
     "text": [
      "Среднее кол-во событий на пользователя в группе A: 6.085014409221902\n",
      "Среднее кол-во событий на пользователя в группе B: 5.219546742209632\n"
     ]
    }
   ],
   "source": [
    "# объединяем 2 датасета\n",
    "\n",
    "participants_events = final_ab_participants.merge(final_ab_events, how = 'inner', on = 'user_id')\n",
    "\n",
    "# считаем кол-во событий на каждого пользователя для каждого теста\n",
    "\n",
    "test_a_events = (participants_events.query('group == \"A\"')\n",
    "                     .groupby(by='user_id', as_index=False)\n",
    "                     .event_name\n",
    "                     .count()\n",
    "                     .rename(columns = {'event_name' : 'event_count'}))\n",
    "\n",
    "test_b_events = (participants_events.query('group == \"B\"')\n",
    "                     .groupby(by='user_id', as_index=False)\n",
    "                     .event_name\n",
    "                     .count()\n",
    "                     .rename(columns = {'event_name' : 'event_count'}))\n",
    "\n",
    "print(f'Среднее кол-во событий на пользователя в группе A: {test_a_events.event_count.mean()}')\n",
    "print(f'Среднее кол-во событий на пользователя в группе B: {test_b_events.event_count.mean()}')"
   ]
  },
  {
   "cell_type": "markdown",
   "id": "22dffeb0",
   "metadata": {},
   "source": [
    "*Кол-во событий на пользователя в выборках распределены по-разному.*"
   ]
  },
  {
   "cell_type": "markdown",
   "id": "4573476a",
   "metadata": {},
   "source": [
    "#### *Как число событий в выборках распределено по дням?*"
   ]
  },
  {
   "cell_type": "code",
   "execution_count": 552,
   "id": "237906a7",
   "metadata": {},
   "outputs": [],
   "source": [
    "# сделаем новый столбец с датой без времени\n",
    "\n",
    "participants_events['date'] = pd.to_datetime(participants_events.event_dt).dt.date\n",
    "\n",
    "# посчитаем чиcло событий по дням и группам\n",
    "\n",
    "events_dates = (participants_events.groupby(['date', 'group'], as_index = False)\n",
    "                                   .event_name\n",
    "                                   .count()\n",
    "                                   .rename(columns = {'event_name' : 'event_count'}))"
   ]
  },
  {
   "cell_type": "code",
   "execution_count": 553,
   "id": "1afba2b5",
   "metadata": {},
   "outputs": [
    {
     "data": {
      "image/png": "[encoded data removed]",
      "text/plain": [
       "<Figure size 1584x504 with 1 Axes>"
      ]
     },
     "metadata": {
      "needs_background": "light"
     },
     "output_type": "display_data"
    }
   ],
   "source": [
    "plt.figure(figsize = (22,7))\n",
    "\n",
    "sns.barplot(data = events_dates, x = 'date', y = 'event_count', hue = 'group',\n",
    "            palette = 'Set2', edgecolor = 'black')\n",
    "\n",
    "plt.title('Количество событий в разные дни по группам тестирования', size = 15)\n",
    "plt.xlabel('')\n",
    "plt.ylabel('кол-во событий, шт.')\n",
    "\n",
    "\n",
    "plt.show()"
   ]
  },
  {
   "cell_type": "markdown",
   "id": "2980e0d2",
   "metadata": {},
   "source": [
    "*Число событий по дням распределено неравномерно, всегда заметно преимущество группы А кроме самого первого дня, с течением времени кол-во событий группы А увеличивается еще больше.*"
   ]
  },
  {
   "cell_type": "markdown",
   "id": "ef899978",
   "metadata": {},
   "source": [
    "#### *Как меняется конверсия в воронке в выборках на разных этапах?*"
   ]
  },
  {
   "cell_type": "code",
   "execution_count": 554,
   "id": "737798ad",
   "metadata": {},
   "outputs": [
    {
     "data": {
      "text/html": [
       "<div>\n",
       "<style scoped>\n",
       "    .dataframe tbody tr th:only-of-type {\n",
       "        vertical-align: middle;\n",
       "    }\n",
       "\n",
       "    .dataframe tbody tr th {\n",
       "        vertical-align: top;\n",
       "    }\n",
       "\n",
       "    .dataframe thead th {\n",
       "        text-align: right;\n",
       "    }\n",
       "</style>\n",
       "<table border=\"1\" class=\"dataframe\">\n",
       "  <thead>\n",
       "    <tr style=\"text-align: right;\">\n",
       "      <th></th>\n",
       "      <th>event_name</th>\n",
       "      <th>amount</th>\n",
       "    </tr>\n",
       "  </thead>\n",
       "  <tbody>\n",
       "    <tr>\n",
       "      <th>0</th>\n",
       "      <td>login</td>\n",
       "      <td>7401</td>\n",
       "    </tr>\n",
       "    <tr>\n",
       "      <th>1</th>\n",
       "      <td>product_page</td>\n",
       "      <td>4594</td>\n",
       "    </tr>\n",
       "    <tr>\n",
       "      <th>2</th>\n",
       "      <td>product_cart</td>\n",
       "      <td>2218</td>\n",
       "    </tr>\n",
       "    <tr>\n",
       "      <th>3</th>\n",
       "      <td>purchase</td>\n",
       "      <td>2141</td>\n",
       "    </tr>\n",
       "  </tbody>\n",
       "</table>\n",
       "</div>"
      ],
      "text/plain": [
       "     event_name  amount\n",
       "0         login    7401\n",
       "1  product_page    4594\n",
       "2  product_cart    2218\n",
       "3      purchase    2141"
      ]
     },
     "metadata": {},
     "output_type": "display_data"
    }
   ],
   "source": [
    "# посмотрим на последовательность событий в воронке путём подсчета каждого события\n",
    "\n",
    "display((participants_events.groupby('event_name', as_index = False)\n",
    "                            .user_id\n",
    "                            .count()\n",
    "                            .rename(columns = {'user_id' : 'amount'})\n",
    "                            .sort_values(by = 'amount', ascending = False)\n",
    "                            .reset_index(drop = True)))"
   ]
  },
  {
   "cell_type": "markdown",
   "id": "755d454d",
   "metadata": {},
   "source": [
    "*Последовательность событий в воронке: **login** >> **product_page** >> **product_card** >> **purchase**.*"
   ]
  },
  {
   "cell_type": "code",
   "execution_count": 555,
   "id": "7ed4b25a",
   "metadata": {},
   "outputs": [],
   "source": [
    "# добавляем таблицу final_ab_new_users\n",
    "\n",
    "participants_events = (participants_events.merge(final_ab_new_users[['user_id', 'first_date']],\n",
    "                                                 how = 'left',\n",
    "                                                 on = 'user_id'))"
   ]
  },
  {
   "cell_type": "code",
   "execution_count": 556,
   "id": "5ae7e05e",
   "metadata": {},
   "outputs": [],
   "source": [
    "# преобразовываем тип данных\n",
    "\n",
    "participants_events['date'] = pd.to_datetime(participants_events['date'])\n",
    "\n",
    "# считаем разницу между регистрацией и событием\n",
    "difference = (participants_events['date'] - participants_events['first_date']).dt.days\n",
    "participants_events['difference'] = difference\n",
    "\n",
    "# избавляемся от ненужных событий\n",
    "participants_events = participants_events.query('difference < 14')"
   ]
  },
  {
   "cell_type": "code",
   "execution_count": 557,
   "id": "9f10d27f",
   "metadata": {},
   "outputs": [
    {
     "name": "stdout",
     "output_type": "stream",
     "text": [
      "Группа А:\n"
     ]
    },
    {
     "data": {
      "text/html": [
       "<div>\n",
       "<style scoped>\n",
       "    .dataframe tbody tr th:only-of-type {\n",
       "        vertical-align: middle;\n",
       "    }\n",
       "\n",
       "    .dataframe tbody tr th {\n",
       "        vertical-align: top;\n",
       "    }\n",
       "\n",
       "    .dataframe thead th {\n",
       "        text-align: right;\n",
       "    }\n",
       "</style>\n",
       "<table border=\"1\" class=\"dataframe\">\n",
       "  <thead>\n",
       "    <tr style=\"text-align: right;\">\n",
       "      <th></th>\n",
       "      <th>event_name</th>\n",
       "      <th>amount</th>\n",
       "      <th>conversion</th>\n",
       "    </tr>\n",
       "  </thead>\n",
       "  <tbody>\n",
       "    <tr>\n",
       "      <th>0</th>\n",
       "      <td>login</td>\n",
       "      <td>2082</td>\n",
       "      <td>1.000</td>\n",
       "    </tr>\n",
       "    <tr>\n",
       "      <th>1</th>\n",
       "      <td>product_page</td>\n",
       "      <td>1360</td>\n",
       "      <td>0.653</td>\n",
       "    </tr>\n",
       "    <tr>\n",
       "      <th>3</th>\n",
       "      <td>product_cart</td>\n",
       "      <td>631</td>\n",
       "      <td>0.303</td>\n",
       "    </tr>\n",
       "    <tr>\n",
       "      <th>2</th>\n",
       "      <td>purchase</td>\n",
       "      <td>652</td>\n",
       "      <td>0.313</td>\n",
       "    </tr>\n",
       "  </tbody>\n",
       "</table>\n",
       "</div>"
      ],
      "text/plain": [
       "     event_name  amount  conversion\n",
       "0         login    2082       1.000\n",
       "1  product_page    1360       0.653\n",
       "3  product_cart     631       0.303\n",
       "2      purchase     652       0.313"
      ]
     },
     "metadata": {},
     "output_type": "display_data"
    },
    {
     "name": "stdout",
     "output_type": "stream",
     "text": [
      "Группа B:\n"
     ]
    },
    {
     "data": {
      "text/html": [
       "<div>\n",
       "<style scoped>\n",
       "    .dataframe tbody tr th:only-of-type {\n",
       "        vertical-align: middle;\n",
       "    }\n",
       "\n",
       "    .dataframe tbody tr th {\n",
       "        vertical-align: top;\n",
       "    }\n",
       "\n",
       "    .dataframe thead th {\n",
       "        text-align: right;\n",
       "    }\n",
       "</style>\n",
       "<table border=\"1\" class=\"dataframe\">\n",
       "  <thead>\n",
       "    <tr style=\"text-align: right;\">\n",
       "      <th></th>\n",
       "      <th>event_name</th>\n",
       "      <th>amount</th>\n",
       "      <th>conversion</th>\n",
       "    </tr>\n",
       "  </thead>\n",
       "  <tbody>\n",
       "    <tr>\n",
       "      <th>0</th>\n",
       "      <td>login</td>\n",
       "      <td>705</td>\n",
       "      <td>1.000</td>\n",
       "    </tr>\n",
       "    <tr>\n",
       "      <th>1</th>\n",
       "      <td>product_page</td>\n",
       "      <td>397</td>\n",
       "      <td>0.563</td>\n",
       "    </tr>\n",
       "    <tr>\n",
       "      <th>3</th>\n",
       "      <td>product_cart</td>\n",
       "      <td>195</td>\n",
       "      <td>0.277</td>\n",
       "    </tr>\n",
       "    <tr>\n",
       "      <th>2</th>\n",
       "      <td>purchase</td>\n",
       "      <td>198</td>\n",
       "      <td>0.281</td>\n",
       "    </tr>\n",
       "  </tbody>\n",
       "</table>\n",
       "</div>"
      ],
      "text/plain": [
       "     event_name  amount  conversion\n",
       "0         login     705       1.000\n",
       "1  product_page     397       0.563\n",
       "3  product_cart     195       0.277\n",
       "2      purchase     198       0.281"
      ]
     },
     "metadata": {},
     "output_type": "display_data"
    }
   ],
   "source": [
    "# считаем кол-во событий для группы А и конверсию\n",
    "\n",
    "events_a = (participants_events.query('group == \"A\"')\n",
    "                               .groupby('event_name', as_index = False)\n",
    "                               .user_id\n",
    "                               .nunique()\n",
    "                               .rename(columns = {'user_id' : 'amount'})\n",
    "                               .sort_values(by = 'amount', ascending = False)\n",
    "                               .reset_index(drop = True))\n",
    "\n",
    "events_a = events_a.reindex([0,1,3,2])\n",
    "events_a['conversion'] = events_a['amount'] / events_a['amount'].max()\n",
    "\n",
    "# считаем кол-во событий для группы B и конверсию\n",
    "\n",
    "events_b = (participants_events.query('group == \"B\"')\n",
    "                               .groupby('event_name', as_index = False)\n",
    "                               .user_id\n",
    "                               .nunique()\n",
    "                               .rename(columns = {'user_id' : 'amount'})\n",
    "                               .sort_values(by = 'amount', ascending = False)\n",
    "                               .reset_index(drop = True))\n",
    "\n",
    "events_b = events_b.reindex([0,1,3,2])\n",
    "events_b['conversion'] = events_b['amount'] / events_b['amount'].max()\n",
    "\n",
    "###\n",
    "\n",
    "print(\"Группа А:\")\n",
    "display(events_a)\n",
    "\n",
    "print(\"Группа B:\")\n",
    "display(events_b)\n"
   ]
  },
  {
   "cell_type": "code",
   "execution_count": 558,
   "id": "9f66512e",
   "metadata": {},
   "outputs": [
    {
     "data": {
      "application/vnd.plotly.v1+json": {
       "config": {
        "plotlyServerURL": "https://plot.ly"
       },
       "data": [
        {
         "name": "A",
         "textinfo": "value+percent previous",
         "type": "funnel",
         "x": [
          2082,
          1360,
          631,
          652
         ],
         "y": [
          "login",
          "product_page",
          "product_cart",
          "purchase"
         ]
        },
        {
         "name": "B",
         "textinfo": "value+percent previous",
         "type": "funnel",
         "x": [
          705,
          397,
          195,
          198
         ],
         "y": [
          705,
          397,
          195,
          198
         ]
        }
       ],
       "layout": {
        "template": {
         "data": {
          "bar": [
           {
            "error_x": {
             "color": "#2a3f5f"
            },
            "error_y": {
             "color": "#2a3f5f"
            },
            "marker": {
             "line": {
              "color": "#E5ECF6",
              "width": 0.5
             },
             "pattern": {
              "fillmode": "overlay",
              "size": 10,
              "solidity": 0.2
             }
            },
            "type": "bar"
           }
          ],
          "barpolar": [
           {
            "marker": {
             "line": {
              "color": "#E5ECF6",
              "width": 0.5
             },
             "pattern": {
              "fillmode": "overlay",
              "size": 10,
              "solidity": 0.2
             }
            },
            "type": "barpolar"
           }
          ],
          "carpet": [
           {
            "aaxis": {
             "endlinecolor": "#2a3f5f",
             "gridcolor": "white",
             "linecolor": "white",
             "minorgridcolor": "white",
             "startlinecolor": "#2a3f5f"
            },
            "baxis": {
             "endlinecolor": "#2a3f5f",
             "gridcolor": "white",
             "linecolor": "white",
             "minorgridcolor": "white",
             "startlinecolor": "#2a3f5f"
            },
            "type": "carpet"
           }
          ],
          "choropleth": [
           {
            "colorbar": {
             "outlinewidth": 0,
             "ticks": ""
            },
            "type": "choropleth"
           }
          ],
          "contour": [
           {
            "colorbar": {
             "outlinewidth": 0,
             "ticks": ""
            },
            "colorscale": [
             [
              0,
              "#0d0887"
             ],
             [
              0.1111111111111111,
              "#46039f"
             ],
             [
              0.2222222222222222,
              "#7201a8"
             ],
             [
              0.3333333333333333,
              "#9c179e"
             ],
             [
              0.4444444444444444,
              "#bd3786"
             ],
             [
              0.5555555555555556,
              "#d8576b"
             ],
             [
              0.6666666666666666,
              "#ed7953"
             ],
             [
              0.7777777777777778,
              "#fb9f3a"
             ],
             [
              0.8888888888888888,
              "#fdca26"
             ],
             [
              1,
              "#f0f921"
             ]
            ],
            "type": "contour"
           }
          ],
          "contourcarpet": [
           {
            "colorbar": {
             "outlinewidth": 0,
             "ticks": ""
            },
            "type": "contourcarpet"
           }
          ],
          "heatmap": [
           {
            "colorbar": {
             "outlinewidth": 0,
             "ticks": ""
            },
            "colorscale": [
             [
              0,
              "#0d0887"
             ],
             [
              0.1111111111111111,
              "#46039f"
             ],
             [
              0.2222222222222222,
              "#7201a8"
             ],
             [
              0.3333333333333333,
              "#9c179e"
             ],
             [
              0.4444444444444444,
              "#bd3786"
             ],
             [
              0.5555555555555556,
              "#d8576b"
             ],
             [
              0.6666666666666666,
              "#ed7953"
             ],
             [
              0.7777777777777778,
              "#fb9f3a"
             ],
             [
              0.8888888888888888,
              "#fdca26"
             ],
             [
              1,
              "#f0f921"
             ]
            ],
            "type": "heatmap"
           }
          ],
          "heatmapgl": [
           {
            "colorbar": {
             "outlinewidth": 0,
             "ticks": ""
            },
            "colorscale": [
             [
              0,
              "#0d0887"
             ],
             [
              0.1111111111111111,
              "#46039f"
             ],
             [
              0.2222222222222222,
              "#7201a8"
             ],
             [
              0.3333333333333333,
              "#9c179e"
             ],
             [
              0.4444444444444444,
              "#bd3786"
             ],
             [
              0.5555555555555556,
              "#d8576b"
             ],
             [
              0.6666666666666666,
              "#ed7953"
             ],
             [
              0.7777777777777778,
              "#fb9f3a"
             ],
             [
              0.8888888888888888,
              "#fdca26"
             ],
             [
              1,
              "#f0f921"
             ]
            ],
            "type": "heatmapgl"
           }
          ],
          "histogram": [
           {
            "marker": {
             "pattern": {
              "fillmode": "overlay",
              "size": 10,
              "solidity": 0.2
             }
            },
            "type": "histogram"
           }
          ],
          "histogram2d": [
           {
            "colorbar": {
             "outlinewidth": 0,
             "ticks": ""
            },
            "colorscale": [
             [
              0,
              "#0d0887"
             ],
             [
              0.1111111111111111,
              "#46039f"
             ],
             [
              0.2222222222222222,
              "#7201a8"
             ],
             [
              0.3333333333333333,
              "#9c179e"
             ],
             [
              0.4444444444444444,
              "#bd3786"
             ],
             [
              0.5555555555555556,
              "#d8576b"
             ],
             [
              0.6666666666666666,
              "#ed7953"
             ],
             [
              0.7777777777777778,
              "#fb9f3a"
             ],
             [
              0.8888888888888888,
              "#fdca26"
             ],
             [
              1,
              "#f0f921"
             ]
            ],
            "type": "histogram2d"
           }
          ],
          "histogram2dcontour": [
           {
            "colorbar": {
             "outlinewidth": 0,
             "ticks": ""
            },
            "colorscale": [
             [
              0,
              "#0d0887"
             ],
             [
              0.1111111111111111,
              "#46039f"
             ],
             [
              0.2222222222222222,
              "#7201a8"
             ],
             [
              0.3333333333333333,
              "#9c179e"
             ],
             [
              0.4444444444444444,
              "#bd3786"
             ],
             [
              0.5555555555555556,
              "#d8576b"
             ],
             [
              0.6666666666666666,
              "#ed7953"
             ],
             [
              0.7777777777777778,
              "#fb9f3a"
             ],
             [
              0.8888888888888888,
              "#fdca26"
             ],
             [
              1,
              "#f0f921"
             ]
            ],
            "type": "histogram2dcontour"
           }
          ],
          "mesh3d": [
           {
            "colorbar": {
             "outlinewidth": 0,
             "ticks": ""
            },
            "type": "mesh3d"
           }
          ],
          "parcoords": [
           {
            "line": {
             "colorbar": {
              "outlinewidth": 0,
              "ticks": ""
             }
            },
            "type": "parcoords"
           }
          ],
          "pie": [
           {
            "automargin": true,
            "type": "pie"
           }
          ],
          "scatter": [
           {
            "marker": {
             "colorbar": {
              "outlinewidth": 0,
              "ticks": ""
             }
            },
            "type": "scatter"
           }
          ],
          "scatter3d": [
           {
            "line": {
             "colorbar": {
              "outlinewidth": 0,
              "ticks": ""
             }
            },
            "marker": {
             "colorbar": {
              "outlinewidth": 0,
              "ticks": ""
             }
            },
            "type": "scatter3d"
           }
          ],
          "scattercarpet": [
           {
            "marker": {
             "colorbar": {
              "outlinewidth": 0,
              "ticks": ""
             }
            },
            "type": "scattercarpet"
           }
          ],
          "scattergeo": [
           {
            "marker": {
             "colorbar": {
              "outlinewidth": 0,
              "ticks": ""
             }
            },
            "type": "scattergeo"
           }
          ],
          "scattergl": [
           {
            "marker": {
             "colorbar": {
              "outlinewidth": 0,
              "ticks": ""
             }
            },
            "type": "scattergl"
           }
          ],
          "scattermapbox": [
           {
            "marker": {
             "colorbar": {
              "outlinewidth": 0,
              "ticks": ""
             }
            },
            "type": "scattermapbox"
           }
          ],
          "scatterpolar": [
           {
            "marker": {
             "colorbar": {
              "outlinewidth": 0,
              "ticks": ""
             }
            },
            "type": "scatterpolar"
           }
          ],
          "scatterpolargl": [
           {
            "marker": {
             "colorbar": {
              "outlinewidth": 0,
              "ticks": ""
             }
            },
            "type": "scatterpolargl"
           }
          ],
          "scatterternary": [
           {
            "marker": {
             "colorbar": {
              "outlinewidth": 0,
              "ticks": ""
             }
            },
            "type": "scatterternary"
           }
          ],
          "surface": [
           {
            "colorbar": {
             "outlinewidth": 0,
             "ticks": ""
            },
            "colorscale": [
             [
              0,
              "#0d0887"
             ],
             [
              0.1111111111111111,
              "#46039f"
             ],
             [
              0.2222222222222222,
              "#7201a8"
             ],
             [
              0.3333333333333333,
              "#9c179e"
             ],
             [
              0.4444444444444444,
              "#bd3786"
             ],
             [
              0.5555555555555556,
              "#d8576b"
             ],
             [
              0.6666666666666666,
              "#ed7953"
             ],
             [
              0.7777777777777778,
              "#fb9f3a"
             ],
             [
              0.8888888888888888,
              "#fdca26"
             ],
             [
              1,
              "#f0f921"
             ]
            ],
            "type": "surface"
           }
          ],
          "table": [
           {
            "cells": {
             "fill": {
              "color": "#EBF0F8"
             },
             "line": {
              "color": "white"
             }
            },
            "header": {
             "fill": {
              "color": "#C8D4E3"
             },
             "line": {
              "color": "white"
             }
            },
            "type": "table"
           }
          ]
         },
         "layout": {
          "annotationdefaults": {
           "arrowcolor": "#2a3f5f",
           "arrowhead": 0,
           "arrowwidth": 1
          },
          "autotypenumbers": "strict",
          "coloraxis": {
           "colorbar": {
            "outlinewidth": 0,
            "ticks": ""
           }
          },
          "colorscale": {
           "diverging": [
            [
             0,
             "#8e0152"
            ],
            [
             0.1,
             "#c51b7d"
            ],
            [
             0.2,
             "#de77ae"
            ],
            [
             0.3,
             "#f1b6da"
            ],
            [
             0.4,
             "#fde0ef"
            ],
            [
             0.5,
             "#f7f7f7"
            ],
            [
             0.6,
             "#e6f5d0"
            ],
            [
             0.7,
             "#b8e186"
            ],
            [
             0.8,
             "#7fbc41"
            ],
            [
             0.9,
             "#4d9221"
            ],
            [
             1,
             "#276419"
            ]
           ],
           "sequential": [
            [
             0,
             "#0d0887"
            ],
            [
             0.1111111111111111,
             "#46039f"
            ],
            [
             0.2222222222222222,
             "#7201a8"
            ],
            [
             0.3333333333333333,
             "#9c179e"
            ],
            [
             0.4444444444444444,
             "#bd3786"
            ],
            [
             0.5555555555555556,
             "#d8576b"
            ],
            [
             0.6666666666666666,
             "#ed7953"
            ],
            [
             0.7777777777777778,
             "#fb9f3a"
            ],
            [
             0.8888888888888888,
             "#fdca26"
            ],
            [
             1,
             "#f0f921"
            ]
           ],
           "sequentialminus": [
            [
             0,
             "#0d0887"
            ],
            [
             0.1111111111111111,
             "#46039f"
            ],
            [
             0.2222222222222222,
             "#7201a8"
            ],
            [
             0.3333333333333333,
             "#9c179e"
            ],
            [
             0.4444444444444444,
             "#bd3786"
            ],
            [
             0.5555555555555556,
             "#d8576b"
            ],
            [
             0.6666666666666666,
             "#ed7953"
            ],
            [
             0.7777777777777778,
             "#fb9f3a"
            ],
            [
             0.8888888888888888,
             "#fdca26"
            ],
            [
             1,
             "#f0f921"
            ]
           ]
          },
          "colorway": [
           "#636efa",
           "#EF553B",
           "#00cc96",
           "#ab63fa",
           "#FFA15A",
           "#19d3f3",
           "#FF6692",
           "#B6E880",
           "#FF97FF",
           "#FECB52"
          ],
          "font": {
           "color": "#2a3f5f"
          },
          "geo": {
           "bgcolor": "white",
           "lakecolor": "white",
           "landcolor": "#E5ECF6",
           "showlakes": true,
           "showland": true,
           "subunitcolor": "white"
          },
          "hoverlabel": {
           "align": "left"
          },
          "hovermode": "closest",
          "mapbox": {
           "style": "light"
          },
          "paper_bgcolor": "white",
          "plot_bgcolor": "#E5ECF6",
          "polar": {
           "angularaxis": {
            "gridcolor": "white",
            "linecolor": "white",
            "ticks": ""
           },
           "bgcolor": "#E5ECF6",
           "radialaxis": {
            "gridcolor": "white",
            "linecolor": "white",
            "ticks": ""
           }
          },
          "scene": {
           "xaxis": {
            "backgroundcolor": "#E5ECF6",
            "gridcolor": "white",
            "gridwidth": 2,
            "linecolor": "white",
            "showbackground": true,
            "ticks": "",
            "zerolinecolor": "white"
           },
           "yaxis": {
            "backgroundcolor": "#E5ECF6",
            "gridcolor": "white",
            "gridwidth": 2,
            "linecolor": "white",
            "showbackground": true,
            "ticks": "",
            "zerolinecolor": "white"
           },
           "zaxis": {
            "backgroundcolor": "#E5ECF6",
            "gridcolor": "white",
            "gridwidth": 2,
            "linecolor": "white",
            "showbackground": true,
            "ticks": "",
            "zerolinecolor": "white"
           }
          },
          "shapedefaults": {
           "line": {
            "color": "#2a3f5f"
           }
          },
          "ternary": {
           "aaxis": {
            "gridcolor": "white",
            "linecolor": "white",
            "ticks": ""
           },
           "baxis": {
            "gridcolor": "white",
            "linecolor": "white",
            "ticks": ""
           },
           "bgcolor": "#E5ECF6",
           "caxis": {
            "gridcolor": "white",
            "linecolor": "white",
            "ticks": ""
           }
          },
          "title": {
           "x": 0.05
          },
          "xaxis": {
           "automargin": true,
           "gridcolor": "white",
           "linecolor": "white",
           "ticks": "",
           "title": {
            "standoff": 15
           },
           "zerolinecolor": "white",
           "zerolinewidth": 2
          },
          "yaxis": {
           "automargin": true,
           "gridcolor": "white",
           "linecolor": "white",
           "ticks": "",
           "title": {
            "standoff": 15
           },
           "zerolinecolor": "white",
           "zerolinewidth": 2
          }
         }
        },
        "title": {
         "text": "Конверсия событий пользователей по группам А и В",
         "x": 0.5
        }
       }
      },
      "text/html": [
       "<div>                            <div id=\"091bc11d-5a9f-436c-9a06-39ebe29faae3\" class=\"plotly-graph-div\" style=\"height:525px; width:100%;\"></div>            <script type=\"text/javascript\">                require([\"plotly\"], function(Plotly) {                    window.PLOTLYENV=window.PLOTLYENV || {};                                    if (document.getElementById(\"091bc11d-5a9f-436c-9a06-39ebe29faae3\")) {                    Plotly.newPlot(                        \"091bc11d-5a9f-436c-9a06-39ebe29faae3\",                        [{\"name\":\"A\",\"textinfo\":\"value+percent previous\",\"x\":[2082,1360,631,652],\"y\":[\"login\",\"product_page\",\"product_cart\",\"purchase\"],\"type\":\"funnel\"},{\"name\":\"B\",\"textinfo\":\"value+percent previous\",\"x\":[705,397,195,198],\"y\":[705,397,195,198],\"type\":\"funnel\"}],                        {\"template\":{\"data\":{\"bar\":[{\"error_x\":{\"color\":\"#2a3f5f\"},\"error_y\":{\"color\":\"#2a3f5f\"},\"marker\":{\"line\":{\"color\":\"#E5ECF6\",\"width\":0.5},\"pattern\":{\"fillmode\":\"overlay\",\"size\":10,\"solidity\":0.2}},\"type\":\"bar\"}],\"barpolar\":[{\"marker\":{\"line\":{\"color\":\"#E5ECF6\",\"width\":0.5},\"pattern\":{\"fillmode\":\"overlay\",\"size\":10,\"solidity\":0.2}},\"type\":\"barpolar\"}],\"carpet\":[{\"aaxis\":{\"endlinecolor\":\"#2a3f5f\",\"gridcolor\":\"white\",\"linecolor\":\"white\",\"minorgridcolor\":\"white\",\"startlinecolor\":\"#2a3f5f\"},\"baxis\":{\"endlinecolor\":\"#2a3f5f\",\"gridcolor\":\"white\",\"linecolor\":\"white\",\"minorgridcolor\":\"white\",\"startlinecolor\":\"#2a3f5f\"},\"type\":\"carpet\"}],\"choropleth\":[{\"colorbar\":{\"outlinewidth\":0,\"ticks\":\"\"},\"type\":\"choropleth\"}],\"contour\":[{\"colorbar\":{\"outlinewidth\":0,\"ticks\":\"\"},\"colorscale\":[[0.0,\"#0d0887\"],[0.1111111111111111,\"#46039f\"],[0.2222222222222222,\"#7201a8\"],[0.3333333333333333,\"#9c179e\"],[0.4444444444444444,\"#bd3786\"],[0.5555555555555556,\"#d8576b\"],[0.6666666666666666,\"#ed7953\"],[0.7777777777777778,\"#fb9f3a\"],[0.8888888888888888,\"#fdca26\"],[1.0,\"#f0f921\"]],\"type\":\"contour\"}],\"contourcarpet\":[{\"colorbar\":{\"outlinewidth\":0,\"ticks\":\"\"},\"type\":\"contourcarpet\"}],\"heatmap\":[{\"colorbar\":{\"outlinewidth\":0,\"ticks\":\"\"},\"colorscale\":[[0.0,\"#0d0887\"],[0.1111111111111111,\"#46039f\"],[0.2222222222222222,\"#7201a8\"],[0.3333333333333333,\"#9c179e\"],[0.4444444444444444,\"#bd3786\"],[0.5555555555555556,\"#d8576b\"],[0.6666666666666666,\"#ed7953\"],[0.7777777777777778,\"#fb9f3a\"],[0.8888888888888888,\"#fdca26\"],[1.0,\"#f0f921\"]],\"type\":\"heatmap\"}],\"heatmapgl\":[{\"colorbar\":{\"outlinewidth\":0,\"ticks\":\"\"},\"colorscale\":[[0.0,\"#0d0887\"],[0.1111111111111111,\"#46039f\"],[0.2222222222222222,\"#7201a8\"],[0.3333333333333333,\"#9c179e\"],[0.4444444444444444,\"#bd3786\"],[0.5555555555555556,\"#d8576b\"],[0.6666666666666666,\"#ed7953\"],[0.7777777777777778,\"#fb9f3a\"],[0.8888888888888888,\"#fdca26\"],[1.0,\"#f0f921\"]],\"type\":\"heatmapgl\"}],\"histogram\":[{\"marker\":{\"pattern\":{\"fillmode\":\"overlay\",\"size\":10,\"solidity\":0.2}},\"type\":\"histogram\"}],\"histogram2d\":[{\"colorbar\":{\"outlinewidth\":0,\"ticks\":\"\"},\"colorscale\":[[0.0,\"#0d0887\"],[0.1111111111111111,\"#46039f\"],[0.2222222222222222,\"#7201a8\"],[0.3333333333333333,\"#9c179e\"],[0.4444444444444444,\"#bd3786\"],[0.5555555555555556,\"#d8576b\"],[0.6666666666666666,\"#ed7953\"],[0.7777777777777778,\"#fb9f3a\"],[0.8888888888888888,\"#fdca26\"],[1.0,\"#f0f921\"]],\"type\":\"histogram2d\"}],\"histogram2dcontour\":[{\"colorbar\":{\"outlinewidth\":0,\"ticks\":\"\"},\"colorscale\":[[0.0,\"#0d0887\"],[0.1111111111111111,\"#46039f\"],[0.2222222222222222,\"#7201a8\"],[0.3333333333333333,\"#9c179e\"],[0.4444444444444444,\"#bd3786\"],[0.5555555555555556,\"#d8576b\"],[0.6666666666666666,\"#ed7953\"],[0.7777777777777778,\"#fb9f3a\"],[0.8888888888888888,\"#fdca26\"],[1.0,\"#f0f921\"]],\"type\":\"histogram2dcontour\"}],\"mesh3d\":[{\"colorbar\":{\"outlinewidth\":0,\"ticks\":\"\"},\"type\":\"mesh3d\"}],\"parcoords\":[{\"line\":{\"colorbar\":{\"outlinewidth\":0,\"ticks\":\"\"}},\"type\":\"parcoords\"}],\"pie\":[{\"automargin\":true,\"type\":\"pie\"}],\"scatter\":[{\"marker\":{\"colorbar\":{\"outlinewidth\":0,\"ticks\":\"\"}},\"type\":\"scatter\"}],\"scatter3d\":[{\"line\":{\"colorbar\":{\"outlinewidth\":0,\"ticks\":\"\"}},\"marker\":{\"colorbar\":{\"outlinewidth\":0,\"ticks\":\"\"}},\"type\":\"scatter3d\"}],\"scattercarpet\":[{\"marker\":{\"colorbar\":{\"outlinewidth\":0,\"ticks\":\"\"}},\"type\":\"scattercarpet\"}],\"scattergeo\":[{\"marker\":{\"colorbar\":{\"outlinewidth\":0,\"ticks\":\"\"}},\"type\":\"scattergeo\"}],\"scattergl\":[{\"marker\":{\"colorbar\":{\"outlinewidth\":0,\"ticks\":\"\"}},\"type\":\"scattergl\"}],\"scattermapbox\":[{\"marker\":{\"colorbar\":{\"outlinewidth\":0,\"ticks\":\"\"}},\"type\":\"scattermapbox\"}],\"scatterpolar\":[{\"marker\":{\"colorbar\":{\"outlinewidth\":0,\"ticks\":\"\"}},\"type\":\"scatterpolar\"}],\"scatterpolargl\":[{\"marker\":{\"colorbar\":{\"outlinewidth\":0,\"ticks\":\"\"}},\"type\":\"scatterpolargl\"}],\"scatterternary\":[{\"marker\":{\"colorbar\":{\"outlinewidth\":0,\"ticks\":\"\"}},\"type\":\"scatterternary\"}],\"surface\":[{\"colorbar\":{\"outlinewidth\":0,\"ticks\":\"\"},\"colorscale\":[[0.0,\"#0d0887\"],[0.1111111111111111,\"#46039f\"],[0.2222222222222222,\"#7201a8\"],[0.3333333333333333,\"#9c179e\"],[0.4444444444444444,\"#bd3786\"],[0.5555555555555556,\"#d8576b\"],[0.6666666666666666,\"#ed7953\"],[0.7777777777777778,\"#fb9f3a\"],[0.8888888888888888,\"#fdca26\"],[1.0,\"#f0f921\"]],\"type\":\"surface\"}],\"table\":[{\"cells\":{\"fill\":{\"color\":\"#EBF0F8\"},\"line\":{\"color\":\"white\"}},\"header\":{\"fill\":{\"color\":\"#C8D4E3\"},\"line\":{\"color\":\"white\"}},\"type\":\"table\"}]},\"layout\":{\"annotationdefaults\":{\"arrowcolor\":\"#2a3f5f\",\"arrowhead\":0,\"arrowwidth\":1},\"autotypenumbers\":\"strict\",\"coloraxis\":{\"colorbar\":{\"outlinewidth\":0,\"ticks\":\"\"}},\"colorscale\":{\"diverging\":[[0,\"#8e0152\"],[0.1,\"#c51b7d\"],[0.2,\"#de77ae\"],[0.3,\"#f1b6da\"],[0.4,\"#fde0ef\"],[0.5,\"#f7f7f7\"],[0.6,\"#e6f5d0\"],[0.7,\"#b8e186\"],[0.8,\"#7fbc41\"],[0.9,\"#4d9221\"],[1,\"#276419\"]],\"sequential\":[[0.0,\"#0d0887\"],[0.1111111111111111,\"#46039f\"],[0.2222222222222222,\"#7201a8\"],[0.3333333333333333,\"#9c179e\"],[0.4444444444444444,\"#bd3786\"],[0.5555555555555556,\"#d8576b\"],[0.6666666666666666,\"#ed7953\"],[0.7777777777777778,\"#fb9f3a\"],[0.8888888888888888,\"#fdca26\"],[1.0,\"#f0f921\"]],\"sequentialminus\":[[0.0,\"#0d0887\"],[0.1111111111111111,\"#46039f\"],[0.2222222222222222,\"#7201a8\"],[0.3333333333333333,\"#9c179e\"],[0.4444444444444444,\"#bd3786\"],[0.5555555555555556,\"#d8576b\"],[0.6666666666666666,\"#ed7953\"],[0.7777777777777778,\"#fb9f3a\"],[0.8888888888888888,\"#fdca26\"],[1.0,\"#f0f921\"]]},\"colorway\":[\"#636efa\",\"#EF553B\",\"#00cc96\",\"#ab63fa\",\"#FFA15A\",\"#19d3f3\",\"#FF6692\",\"#B6E880\",\"#FF97FF\",\"#FECB52\"],\"font\":{\"color\":\"#2a3f5f\"},\"geo\":{\"bgcolor\":\"white\",\"lakecolor\":\"white\",\"landcolor\":\"#E5ECF6\",\"showlakes\":true,\"showland\":true,\"subunitcolor\":\"white\"},\"hoverlabel\":{\"align\":\"left\"},\"hovermode\":\"closest\",\"mapbox\":{\"style\":\"light\"},\"paper_bgcolor\":\"white\",\"plot_bgcolor\":\"#E5ECF6\",\"polar\":{\"angularaxis\":{\"gridcolor\":\"white\",\"linecolor\":\"white\",\"ticks\":\"\"},\"bgcolor\":\"#E5ECF6\",\"radialaxis\":{\"gridcolor\":\"white\",\"linecolor\":\"white\",\"ticks\":\"\"}},\"scene\":{\"xaxis\":{\"backgroundcolor\":\"#E5ECF6\",\"gridcolor\":\"white\",\"gridwidth\":2,\"linecolor\":\"white\",\"showbackground\":true,\"ticks\":\"\",\"zerolinecolor\":\"white\"},\"yaxis\":{\"backgroundcolor\":\"#E5ECF6\",\"gridcolor\":\"white\",\"gridwidth\":2,\"linecolor\":\"white\",\"showbackground\":true,\"ticks\":\"\",\"zerolinecolor\":\"white\"},\"zaxis\":{\"backgroundcolor\":\"#E5ECF6\",\"gridcolor\":\"white\",\"gridwidth\":2,\"linecolor\":\"white\",\"showbackground\":true,\"ticks\":\"\",\"zerolinecolor\":\"white\"}},\"shapedefaults\":{\"line\":{\"color\":\"#2a3f5f\"}},\"ternary\":{\"aaxis\":{\"gridcolor\":\"white\",\"linecolor\":\"white\",\"ticks\":\"\"},\"baxis\":{\"gridcolor\":\"white\",\"linecolor\":\"white\",\"ticks\":\"\"},\"bgcolor\":\"#E5ECF6\",\"caxis\":{\"gridcolor\":\"white\",\"linecolor\":\"white\",\"ticks\":\"\"}},\"title\":{\"x\":0.05},\"xaxis\":{\"automargin\":true,\"gridcolor\":\"white\",\"linecolor\":\"white\",\"ticks\":\"\",\"title\":{\"standoff\":15},\"zerolinecolor\":\"white\",\"zerolinewidth\":2},\"yaxis\":{\"automargin\":true,\"gridcolor\":\"white\",\"linecolor\":\"white\",\"ticks\":\"\",\"title\":{\"standoff\":15},\"zerolinecolor\":\"white\",\"zerolinewidth\":2}}},\"title\":{\"text\":\"\\u041a\\u043e\\u043d\\u0432\\u0435\\u0440\\u0441\\u0438\\u044f \\u0441\\u043e\\u0431\\u044b\\u0442\\u0438\\u0439 \\u043f\\u043e\\u043b\\u044c\\u0437\\u043e\\u0432\\u0430\\u0442\\u0435\\u043b\\u0435\\u0439 \\u043f\\u043e \\u0433\\u0440\\u0443\\u043f\\u043f\\u0430\\u043c \\u0410 \\u0438 \\u0412\",\"x\":0.5}},                        {\"responsive\": true}                    ).then(function(){\n",
       "                            \n",
       "var gd = document.getElementById('091bc11d-5a9f-436c-9a06-39ebe29faae3');\n",
       "var x = new MutationObserver(function (mutations, observer) {{\n",
       "        var display = window.getComputedStyle(gd).display;\n",
       "        if (!display || display === 'none') {{\n",
       "            console.log([gd, 'removed!']);\n",
       "            Plotly.purge(gd);\n",
       "            observer.disconnect();\n",
       "        }}\n",
       "}});\n",
       "\n",
       "// Listen for the removal of the full notebook cells\n",
       "var notebookContainer = gd.closest('#notebook-container');\n",
       "if (notebookContainer) {{\n",
       "    x.observe(notebookContainer, {childList: true});\n",
       "}}\n",
       "\n",
       "// Listen for the clearing of the current output cell\n",
       "var outputEl = gd.closest('.output');\n",
       "if (outputEl) {{\n",
       "    x.observe(outputEl, {childList: true});\n",
       "}}\n",
       "\n",
       "                        })                };                });            </script>        </div>"
      ]
     },
     "metadata": {},
     "output_type": "display_data"
    }
   ],
   "source": [
    "fig = go.Figure()\n",
    "\n",
    "fig.add_trace(go.Funnel(\n",
    "    name = 'A',\n",
    "    y = list(events_a.event_name),\n",
    "    x = list(events_a.amount),\n",
    "    textinfo = \"value+percent previous\"))\n",
    "\n",
    "fig.add_trace(go.Funnel(\n",
    "    name = 'B',\n",
    "    y = list(events_b.amount),\n",
    "    x = list(events_b.amount),\n",
    "    textinfo = \"value+percent previous\"))\n",
    "\n",
    "fig.update_layout(\n",
    "    title = {\n",
    "        'text' : 'Конверсия событий пользователей по группам А и В',\n",
    "        'x':0.5\n",
    "    }\n",
    ")\n",
    "\n",
    "fig.show()"
   ]
  },
  {
   "cell_type": "markdown",
   "id": "06123676",
   "metadata": {},
   "source": [
    "*Пользователи пропускают этап product_cart, по-видимому, товар можно купить без просмотра корзины. Конверсия группы А гораздо лучше конверсии группы B.*"
   ]
  },
  {
   "cell_type": "markdown",
   "id": "0536ef53",
   "metadata": {},
   "source": [
    "***Итоги исследовательского анализа данных:***\n",
    "\n",
    "- *Кол-во событий на пользователя в выборках распределены по-разному.*\n",
    "- *Число событий по дням распределено неравномерно, всегда заметно преимущество группы А кроме самого первого дня, с течением времени кол-во событий группы А увеличивается еще больше.*\n",
    "- *Последовательность событий в воронке: **login** >> **product_page** >> **product_card** >> **purchase**.*\n",
    "- *Пользователи пропускают этап product_cart, по-видимому, товар можно купить без просмотра корзины. Конверсия группы А гораздо лучше конверсии группы B.*"
   ]
  },
  {
   "cell_type": "markdown",
   "id": "8b73c7f4",
   "metadata": {},
   "source": [
    "---\n",
    "### *Оценка результатов A/B-тестирования*\n",
    "\n",
    "#### *Что можно сказать про результаты A/B-тестирования?*\n",
    "\n",
    "*В группах разное кол-во пользователей, что может привести к искажению результатов a/b-теста, надо более ответственно к этому подходить, так как a/b-тест довольно дорогостоящий и растрачивать ресурсы неграмотно с разным кол-вом пользователей в группах крайне нежелательно.*\n"
   ]
  },
  {
   "cell_type": "markdown",
   "id": "3305b0f7",
   "metadata": {},
   "source": [
    "#### *Проверка статистической разницы долей z-критерием*\n",
    "\n",
    "- ***H0*** - *разницы между долями нет, они одинаковые*\n",
    "- ***H1*** - *разница между долями есть, они разные*"
   ]
  },
  {
   "cell_type": "code",
   "execution_count": 559,
   "id": "70df1017",
   "metadata": {},
   "outputs": [],
   "source": [
    "# объединяем 2 датасета в 1 для удобства\n",
    "\n",
    "groups = events_a.merge(events_b, on = 'event_name', how = 'inner', suffixes = ('_a', '_b'))\n",
    "\n",
    "# считаем уникальных участников теста\n",
    "\n",
    "unique_a = participants_events.query('group == \"A\"').user_id.nunique()\n",
    "unique_b = participants_events.query('group == \"B\"').user_id.nunique()"
   ]
  },
  {
   "cell_type": "code",
   "execution_count": 560,
   "id": "f71c0d6d",
   "metadata": {},
   "outputs": [],
   "source": [
    "# функция для z-теста, так как будем его использовать для 4х событий\n",
    "\n",
    "def z_test(success_1, success_2):\n",
    "    \n",
    "    # критический уровень значимости, учитываем поправку Бонферони и делим на 4\n",
    "    alpha = .05 / 4\n",
    "    \n",
    "    successes = [success_1, success_2]\n",
    "    trials = [unique_a, unique_b]\n",
    "    \n",
    "\n",
    "    p1 = successes[0]/trials[0]\n",
    "    p2 = successes[1]/trials[1]\n",
    "    \n",
    "    p_combined = (successes[0] + successes[1]) / (trials[0] + trials[1])\n",
    "    difference = p1 - p2\n",
    "    \n",
    "    z_value = difference / mth.sqrt(p_combined * (1 - p_combined) * (1/trials[0] + 1/trials[1]))\n",
    "    distr = st.norm(0, 1)\n",
    "    \n",
    "    p_value = (1 - distr.cdf(abs(z_value))) * 2\n",
    "    \n",
    "    if p_value < alpha:\n",
    "        print('Принимаем H1. Разница между долями есть.')\n",
    "    else:\n",
    "        print('Не можем отвергнуть H0. Разница между долями нет.')"
   ]
  },
  {
   "cell_type": "code",
   "execution_count": 561,
   "id": "a4b26989",
   "metadata": {},
   "outputs": [
    {
     "name": "stdout",
     "output_type": "stream",
     "text": [
      "z-тест для login:\n",
      "Не можем отвергнуть H0. Разница между долями нет.\n",
      "\n",
      "z-тест для product_page:\n",
      "Принимаем H1. Разница между долями есть.\n",
      "\n",
      "z-тест для product_cart:\n",
      "Не можем отвергнуть H0. Разница между долями нет.\n",
      "\n",
      "z-тест для purchase:\n",
      "Не можем отвергнуть H0. Разница между долями нет.\n",
      "\n"
     ]
    }
   ],
   "source": [
    "# проходимся по датасету и считаем p_value\n",
    "# проходится циклом по массиву нежелательно, но так как датасет маленький, то допустимо\n",
    "\n",
    "for index, row in groups.iterrows():\n",
    "    print(f'z-тест для {row.event_name}:')\n",
    "    z_test(row['amount_a'], row['amount_b'])\n",
    "    print('')"
   ]
  },
  {
   "cell_type": "markdown",
   "id": "2135ffe8",
   "metadata": {},
   "source": [
    "***Итоги оценки результатов a/b-тестирования:***\n",
    "- *Статистической разницы нет между выборками групп A и B для этапов login, product_cart и purchase.*\n",
    "- *Статистическая разница есть в конверсии групп А и В для события product_page.*"
   ]
  },
  {
   "cell_type": "markdown",
   "id": "2f9d0efd",
   "metadata": {},
   "source": [
    "---\n",
    "### *Вывод*\n",
    "\n",
    "***В этом исследовании было предоставлено 4 датасета для анализа a/b-теста и ТЗ. Было сделано и обнаружено следующее:***\n",
    "\n",
    "- ***Предобработка данных***\n",
    "    1. *Заменили типы данных в некоторых столбцах*\n",
    "    2. *Дубликатов в датасетах не оказалось*\n",
    "    3. *Пропуски были только в одном столбце, заполнили их нулями, чтобы не потерять данные*\n",
    "\n",
    "\n",
    "- ***Оценка корректности проведения теста:***\n",
    "    1. *Нашли пользователей, пересекающихся в обоих тестах, удалили их, удалили данные из ненужного теста*\n",
    "    2. *Пользователей, попавших в обе группы не оказалось, но кол-во пользователей в группах сильно отличается*\n",
    "    3. *Удалили лишних новых пользователей, которые добавлялись после дедлайна*\n",
    "    4. *Также тест заканчивается раньше, чем было по ТЗ*\n",
    "    5. *Кол-во участников меньше, чем по ТЗ*\n",
    "    6. *Во время теста проводилось 2 маркетинговые компании, которые могли сильно повлиять на a/b-тест*\n",
    "\n",
    "\n",
    "- ***Исследовательский анализ данных:***\n",
    "    1. *Кол-во событий на пользователя в выборках распределены по-разному.*\n",
    "    2. *Число событий по дням распределено неравномерно, всегда заметно преимущество группы А кроме самого первого дня, с течением времени кол-во событий группы А увеличивается еще больше.*\n",
    "    3. *Последовательность событий в воронке: **login** >> **product_page** >> **product_card** >> **purchase**.*\n",
    "    4. *Пользователи пропускают этап product_cart, по-видимому, товар можно купить без просмотра корзины. Конверсия группы А гораздо лучше конверсии группы B.*\n",
    "    \n",
    "    \n",
    "- ***Итоги оценки результатов a/b-тестирования:***\n",
    "    1. *Статистической разницы нет между выборками групп A и B для этапов login, product_cart и purchase.*\n",
    "    2. *Статистическая разница есть в конверсии групп А и В для события product_page.*\n",
    "    \n",
    "***Было очень много несовпадений по ТЗ, разное кол-во пользователей в выборках, маркетинговые события во время теста, поэтому не стоит доверять полученным результатам и провести a/b-тест, подходящий по ТЗ с учтёнными замечаниями.***"
   ]
  }
 ],
 "metadata": {
  "ExecuteTimeLog": [
   {
    "duration": 1433,
    "start_time": "2022-12-23T06:14:50.800Z"
   },
   {
    "duration": 2164,
    "start_time": "2022-12-23T06:14:52.236Z"
   },
   {
    "duration": 29,
    "start_time": "2022-12-23T06:14:54.402Z"
   },
   {
    "duration": 17,
    "start_time": "2022-12-23T06:14:54.433Z"
   },
   {
    "duration": 128,
    "start_time": "2022-12-23T06:14:54.453Z"
   },
   {
    "duration": 239,
    "start_time": "2022-12-23T06:14:54.583Z"
   },
   {
    "duration": 72,
    "start_time": "2022-12-23T06:14:54.825Z"
   },
   {
    "duration": 80,
    "start_time": "2022-12-23T06:14:54.898Z"
   },
   {
    "duration": 5,
    "start_time": "2022-12-23T06:14:54.980Z"
   },
   {
    "duration": 5,
    "start_time": "2022-12-23T06:14:54.987Z"
   },
   {
    "duration": 32,
    "start_time": "2022-12-23T06:14:54.993Z"
   },
   {
    "duration": 24,
    "start_time": "2022-12-23T06:14:55.027Z"
   },
   {
    "duration": 13,
    "start_time": "2022-12-23T06:14:55.053Z"
   },
   {
    "duration": 6,
    "start_time": "2022-12-23T06:14:55.068Z"
   },
   {
    "duration": 16,
    "start_time": "2022-12-23T06:14:55.075Z"
   },
   {
    "duration": 23,
    "start_time": "2022-12-23T06:14:55.092Z"
   },
   {
    "duration": 9,
    "start_time": "2022-12-23T06:14:55.116Z"
   },
   {
    "duration": 51,
    "start_time": "2022-12-23T06:14:55.127Z"
   },
   {
    "duration": 4,
    "start_time": "2022-12-23T06:14:55.179Z"
   },
   {
    "duration": 25,
    "start_time": "2022-12-23T06:14:55.184Z"
   },
   {
    "duration": 33,
    "start_time": "2022-12-23T06:14:55.211Z"
   },
   {
    "duration": 15,
    "start_time": "2022-12-23T06:14:55.245Z"
   },
   {
    "duration": 148,
    "start_time": "2022-12-23T06:14:55.261Z"
   },
   {
    "duration": 40,
    "start_time": "2022-12-23T06:14:55.411Z"
   },
   {
    "duration": 400,
    "start_time": "2022-12-23T06:14:55.453Z"
   },
   {
    "duration": 13,
    "start_time": "2022-12-23T06:14:55.854Z"
   },
   {
    "duration": 39,
    "start_time": "2022-12-23T06:14:55.869Z"
   },
   {
    "duration": 42,
    "start_time": "2022-12-23T06:14:55.909Z"
   },
   {
    "duration": 17,
    "start_time": "2022-12-23T06:14:55.953Z"
   },
   {
    "duration": 29,
    "start_time": "2022-12-23T06:14:55.972Z"
   },
   {
    "duration": 1254,
    "start_time": "2022-12-23T10:10:38.907Z"
   },
   {
    "duration": 2497,
    "start_time": "2022-12-23T10:10:42.085Z"
   },
   {
    "duration": 21,
    "start_time": "2022-12-23T10:10:44.584Z"
   },
   {
    "duration": 14,
    "start_time": "2022-12-23T10:10:46.272Z"
   },
   {
    "duration": 110,
    "start_time": "2022-12-23T10:10:47.338Z"
   },
   {
    "duration": 200,
    "start_time": "2022-12-23T10:10:48.374Z"
   },
   {
    "duration": 60,
    "start_time": "2022-12-23T10:10:49.864Z"
   },
   {
    "duration": 60,
    "start_time": "2022-12-23T10:10:50.746Z"
   },
   {
    "duration": 6,
    "start_time": "2022-12-23T10:10:51.778Z"
   },
   {
    "duration": 5,
    "start_time": "2022-12-23T10:10:53.853Z"
   },
   {
    "duration": 17,
    "start_time": "2022-12-23T10:10:55.552Z"
   },
   {
    "duration": 7,
    "start_time": "2022-12-23T10:11:01.503Z"
   },
   {
    "duration": 10,
    "start_time": "2022-12-23T10:11:02.431Z"
   },
   {
    "duration": 3,
    "start_time": "2022-12-23T10:11:09.878Z"
   },
   {
    "duration": 5,
    "start_time": "2022-12-23T10:11:10.272Z"
   },
   {
    "duration": 9,
    "start_time": "2022-12-23T10:11:15.241Z"
   },
   {
    "duration": 12,
    "start_time": "2022-12-23T10:11:41.519Z"
   },
   {
    "duration": 9,
    "start_time": "2022-12-23T10:12:20.508Z"
   },
   {
    "duration": 18,
    "start_time": "2022-12-23T10:12:44.328Z"
   },
   {
    "duration": 3,
    "start_time": "2022-12-23T10:15:59.402Z"
   },
   {
    "duration": 601,
    "start_time": "2022-12-23T10:16:00.103Z"
   },
   {
    "duration": 22,
    "start_time": "2022-12-23T10:16:00.706Z"
   },
   {
    "duration": 13,
    "start_time": "2022-12-23T10:16:01.793Z"
   },
   {
    "duration": 101,
    "start_time": "2022-12-23T10:16:02.229Z"
   },
   {
    "duration": 190,
    "start_time": "2022-12-23T10:16:02.572Z"
   },
   {
    "duration": 65,
    "start_time": "2022-12-23T10:16:03.081Z"
   },
   {
    "duration": 48,
    "start_time": "2022-12-23T10:16:03.677Z"
   },
   {
    "duration": 5,
    "start_time": "2022-12-23T10:16:04.245Z"
   },
   {
    "duration": 5,
    "start_time": "2022-12-23T10:16:05.704Z"
   },
   {
    "duration": 16,
    "start_time": "2022-12-23T10:16:06.281Z"
   },
   {
    "duration": 7,
    "start_time": "2022-12-23T10:16:06.745Z"
   },
   {
    "duration": 17,
    "start_time": "2022-12-23T10:16:07.432Z"
   },
   {
    "duration": 5,
    "start_time": "2022-12-23T10:16:08.303Z"
   },
   {
    "duration": 5,
    "start_time": "2022-12-23T10:16:08.586Z"
   },
   {
    "duration": 8,
    "start_time": "2022-12-23T10:16:08.765Z"
   },
   {
    "duration": 6,
    "start_time": "2022-12-23T10:20:35.742Z"
   },
   {
    "duration": 35,
    "start_time": "2022-12-23T10:20:40.494Z"
   },
   {
    "duration": 4,
    "start_time": "2022-12-23T10:20:49.105Z"
   },
   {
    "duration": 11,
    "start_time": "2022-12-23T10:22:42.588Z"
   },
   {
    "duration": 12,
    "start_time": "2022-12-23T10:24:23.123Z"
   },
   {
    "duration": 21,
    "start_time": "2022-12-23T10:29:15.710Z"
   },
   {
    "duration": 29,
    "start_time": "2022-12-23T10:29:41.142Z"
   },
   {
    "duration": 43,
    "start_time": "2022-12-23T10:29:55.672Z"
   },
   {
    "duration": 28,
    "start_time": "2022-12-23T10:30:36.251Z"
   },
   {
    "duration": 10,
    "start_time": "2022-12-23T10:37:52.905Z"
   },
   {
    "duration": 10,
    "start_time": "2022-12-23T10:38:04.702Z"
   },
   {
    "duration": 12,
    "start_time": "2022-12-23T10:38:08.915Z"
   },
   {
    "duration": 12,
    "start_time": "2022-12-23T10:38:13.117Z"
   },
   {
    "duration": 12,
    "start_time": "2022-12-23T10:38:48.430Z"
   },
   {
    "duration": 18,
    "start_time": "2022-12-23T10:39:51.101Z"
   },
   {
    "duration": 12,
    "start_time": "2022-12-23T10:39:52.268Z"
   },
   {
    "duration": 117,
    "start_time": "2022-12-23T10:39:59.077Z"
   },
   {
    "duration": 24,
    "start_time": "2022-12-23T10:40:01.473Z"
   },
   {
    "duration": 368,
    "start_time": "2022-12-23T10:40:02.032Z"
   },
   {
    "duration": 10,
    "start_time": "2022-12-23T10:40:04.755Z"
   },
   {
    "duration": 28,
    "start_time": "2022-12-23T10:40:05.590Z"
   },
   {
    "duration": 15,
    "start_time": "2022-12-23T10:41:24.022Z"
   },
   {
    "duration": 92,
    "start_time": "2022-12-23T10:43:23.170Z"
   },
   {
    "duration": 43,
    "start_time": "2022-12-23T10:43:28.343Z"
   },
   {
    "duration": 35,
    "start_time": "2022-12-23T10:44:23.815Z"
   },
   {
    "duration": 41,
    "start_time": "2022-12-23T10:44:31.578Z"
   },
   {
    "duration": 28,
    "start_time": "2022-12-23T10:47:14.989Z"
   },
   {
    "duration": 55,
    "start_time": "2022-12-23T10:48:17.547Z"
   },
   {
    "duration": 37,
    "start_time": "2022-12-23T10:49:18.886Z"
   },
   {
    "duration": 23,
    "start_time": "2022-12-23T10:49:35.483Z"
   },
   {
    "duration": 3,
    "start_time": "2022-12-23T10:49:45.482Z"
   },
   {
    "duration": 580,
    "start_time": "2022-12-23T10:49:45.542Z"
   },
   {
    "duration": 36,
    "start_time": "2022-12-23T10:49:46.123Z"
   },
   {
    "duration": 15,
    "start_time": "2022-12-23T10:49:46.161Z"
   },
   {
    "duration": 101,
    "start_time": "2022-12-23T10:49:46.216Z"
   },
   {
    "duration": 219,
    "start_time": "2022-12-23T10:49:46.746Z"
   },
   {
    "duration": 74,
    "start_time": "2022-12-23T10:49:46.966Z"
   },
   {
    "duration": 74,
    "start_time": "2022-12-23T10:49:47.042Z"
   },
   {
    "duration": 6,
    "start_time": "2022-12-23T10:49:47.118Z"
   },
   {
    "duration": 7,
    "start_time": "2022-12-23T10:49:47.126Z"
   },
   {
    "duration": 21,
    "start_time": "2022-12-23T10:49:47.741Z"
   },
   {
    "duration": 8,
    "start_time": "2022-12-23T10:49:48.079Z"
   },
   {
    "duration": 12,
    "start_time": "2022-12-23T10:49:48.605Z"
   },
   {
    "duration": 4,
    "start_time": "2022-12-23T10:49:48.692Z"
   },
   {
    "duration": 4,
    "start_time": "2022-12-23T10:49:48.720Z"
   },
   {
    "duration": 9,
    "start_time": "2022-12-23T10:49:48.763Z"
   },
   {
    "duration": 6,
    "start_time": "2022-12-23T10:49:49.754Z"
   },
   {
    "duration": 30,
    "start_time": "2022-12-23T10:49:50.254Z"
   },
   {
    "duration": 3,
    "start_time": "2022-12-23T10:49:50.945Z"
   },
   {
    "duration": 13,
    "start_time": "2022-12-23T10:49:51.039Z"
   },
   {
    "duration": 16,
    "start_time": "2022-12-23T10:49:51.075Z"
   },
   {
    "duration": 20,
    "start_time": "2022-12-23T10:49:51.189Z"
   },
   {
    "duration": 11,
    "start_time": "2022-12-23T10:49:51.219Z"
   },
   {
    "duration": 114,
    "start_time": "2022-12-23T10:49:52.444Z"
   },
   {
    "duration": 25,
    "start_time": "2022-12-23T10:49:53.644Z"
   },
   {
    "duration": 356,
    "start_time": "2022-12-23T10:49:53.815Z"
   },
   {
    "duration": 10,
    "start_time": "2022-12-23T10:49:54.974Z"
   },
   {
    "duration": 15,
    "start_time": "2022-12-23T10:49:56.380Z"
   },
   {
    "duration": 47,
    "start_time": "2022-12-23T10:50:38.866Z"
   },
   {
    "duration": 30,
    "start_time": "2022-12-23T10:51:07.079Z"
   },
   {
    "duration": 42,
    "start_time": "2022-12-23T10:53:39.315Z"
   },
   {
    "duration": 51,
    "start_time": "2022-12-23T10:53:46.123Z"
   },
   {
    "duration": 49,
    "start_time": "2022-12-23T10:54:52.342Z"
   },
   {
    "duration": 54,
    "start_time": "2022-12-23T10:55:01.745Z"
   },
   {
    "duration": 46,
    "start_time": "2022-12-23T10:55:07.712Z"
   },
   {
    "duration": 3,
    "start_time": "2022-12-23T10:55:24.749Z"
   },
   {
    "duration": 608,
    "start_time": "2022-12-23T10:55:24.810Z"
   },
   {
    "duration": 26,
    "start_time": "2022-12-23T10:55:25.420Z"
   },
   {
    "duration": 13,
    "start_time": "2022-12-23T10:55:25.447Z"
   },
   {
    "duration": 134,
    "start_time": "2022-12-23T10:55:25.462Z"
   },
   {
    "duration": 220,
    "start_time": "2022-12-23T10:55:25.597Z"
   },
   {
    "duration": 87,
    "start_time": "2022-12-23T10:55:25.818Z"
   },
   {
    "duration": 53,
    "start_time": "2022-12-23T10:55:25.907Z"
   },
   {
    "duration": 6,
    "start_time": "2022-12-23T10:55:25.962Z"
   },
   {
    "duration": 35,
    "start_time": "2022-12-23T10:55:25.970Z"
   },
   {
    "duration": 22,
    "start_time": "2022-12-23T10:55:26.006Z"
   },
   {
    "duration": 11,
    "start_time": "2022-12-23T10:55:26.030Z"
   },
   {
    "duration": 44,
    "start_time": "2022-12-23T10:55:26.042Z"
   },
   {
    "duration": 4,
    "start_time": "2022-12-23T10:55:27.109Z"
   },
   {
    "duration": 29,
    "start_time": "2022-12-23T10:55:27.139Z"
   },
   {
    "duration": 10,
    "start_time": "2022-12-23T10:55:27.318Z"
   },
   {
    "duration": 7,
    "start_time": "2022-12-23T10:55:28.435Z"
   },
   {
    "duration": 37,
    "start_time": "2022-12-23T10:55:28.809Z"
   },
   {
    "duration": 3,
    "start_time": "2022-12-23T10:55:29.616Z"
   },
   {
    "duration": 16,
    "start_time": "2022-12-23T10:55:30.376Z"
   },
   {
    "duration": 12,
    "start_time": "2022-12-23T10:55:31.341Z"
   },
   {
    "duration": 21,
    "start_time": "2022-12-23T10:55:32.725Z"
   },
   {
    "duration": 12,
    "start_time": "2022-12-23T10:55:34.033Z"
   },
   {
    "duration": 108,
    "start_time": "2022-12-23T10:55:36.671Z"
   },
   {
    "duration": 31,
    "start_time": "2022-12-23T10:55:38.392Z"
   },
   {
    "duration": 359,
    "start_time": "2022-12-23T10:55:39.075Z"
   },
   {
    "duration": 12,
    "start_time": "2022-12-23T10:55:52.635Z"
   },
   {
    "duration": 28,
    "start_time": "2022-12-23T10:56:20.050Z"
   },
   {
    "duration": 17,
    "start_time": "2022-12-23T10:56:26.292Z"
   },
   {
    "duration": 8,
    "start_time": "2022-12-23T10:57:57.657Z"
   },
   {
    "duration": 13,
    "start_time": "2022-12-23T10:58:06.015Z"
   },
   {
    "duration": 5,
    "start_time": "2022-12-23T10:58:28.398Z"
   },
   {
    "duration": 7,
    "start_time": "2022-12-23T10:58:58.262Z"
   },
   {
    "duration": 5,
    "start_time": "2022-12-23T10:59:02.755Z"
   },
   {
    "duration": 7,
    "start_time": "2022-12-23T10:59:09.244Z"
   },
   {
    "duration": 7,
    "start_time": "2022-12-23T10:59:26.146Z"
   },
   {
    "duration": 6,
    "start_time": "2022-12-23T10:59:33.013Z"
   },
   {
    "duration": 10,
    "start_time": "2022-12-23T11:00:16.195Z"
   },
   {
    "duration": 9,
    "start_time": "2022-12-23T11:00:22.039Z"
   },
   {
    "duration": 12,
    "start_time": "2022-12-23T11:00:27.498Z"
   },
   {
    "duration": 7,
    "start_time": "2022-12-23T11:00:30.480Z"
   },
   {
    "duration": 117,
    "start_time": "2022-12-23T11:01:30.052Z"
   },
   {
    "duration": 21,
    "start_time": "2022-12-23T11:01:35.507Z"
   },
   {
    "duration": 14,
    "start_time": "2022-12-23T11:01:59.371Z"
   },
   {
    "duration": 18,
    "start_time": "2022-12-23T11:02:03.105Z"
   },
   {
    "duration": 19,
    "start_time": "2022-12-23T11:02:16.527Z"
   },
   {
    "duration": 20,
    "start_time": "2022-12-23T11:02:42.755Z"
   },
   {
    "duration": 18,
    "start_time": "2022-12-23T11:04:26.037Z"
   },
   {
    "duration": 30,
    "start_time": "2022-12-23T11:04:28.020Z"
   },
   {
    "duration": 19,
    "start_time": "2022-12-23T11:04:39.801Z"
   },
   {
    "duration": 3,
    "start_time": "2022-12-23T11:04:47.639Z"
   },
   {
    "duration": 609,
    "start_time": "2022-12-23T11:04:47.695Z"
   },
   {
    "duration": 23,
    "start_time": "2022-12-23T11:04:48.306Z"
   },
   {
    "duration": 12,
    "start_time": "2022-12-23T11:04:48.331Z"
   },
   {
    "duration": 168,
    "start_time": "2022-12-23T11:04:48.345Z"
   },
   {
    "duration": 222,
    "start_time": "2022-12-23T11:04:48.515Z"
   },
   {
    "duration": 74,
    "start_time": "2022-12-23T11:04:48.739Z"
   },
   {
    "duration": 48,
    "start_time": "2022-12-23T11:04:48.815Z"
   },
   {
    "duration": 5,
    "start_time": "2022-12-23T11:04:48.864Z"
   },
   {
    "duration": 34,
    "start_time": "2022-12-23T11:04:48.871Z"
   },
   {
    "duration": 17,
    "start_time": "2022-12-23T11:04:48.907Z"
   },
   {
    "duration": 11,
    "start_time": "2022-12-23T11:04:48.925Z"
   },
   {
    "duration": 12,
    "start_time": "2022-12-23T11:04:48.937Z"
   },
   {
    "duration": 3,
    "start_time": "2022-12-23T11:04:48.951Z"
   },
   {
    "duration": 4,
    "start_time": "2022-12-23T11:04:49.515Z"
   },
   {
    "duration": 10,
    "start_time": "2022-12-23T11:04:50.013Z"
   },
   {
    "duration": 6,
    "start_time": "2022-12-23T11:04:50.110Z"
   },
   {
    "duration": 38,
    "start_time": "2022-12-23T11:04:50.199Z"
   },
   {
    "duration": 3,
    "start_time": "2022-12-23T11:04:50.320Z"
   },
   {
    "duration": 13,
    "start_time": "2022-12-23T11:04:50.403Z"
   },
   {
    "duration": 15,
    "start_time": "2022-12-23T11:04:50.886Z"
   },
   {
    "duration": 30,
    "start_time": "2022-12-23T11:04:52.132Z"
   },
   {
    "duration": 16,
    "start_time": "2022-12-23T11:04:52.414Z"
   },
   {
    "duration": 130,
    "start_time": "2022-12-23T11:04:53.783Z"
   },
   {
    "duration": 24,
    "start_time": "2022-12-23T11:04:54.863Z"
   },
   {
    "duration": 357,
    "start_time": "2022-12-23T11:04:55.015Z"
   },
   {
    "duration": 12,
    "start_time": "2022-12-23T11:04:56.249Z"
   },
   {
    "duration": 33,
    "start_time": "2022-12-23T11:04:56.917Z"
   },
   {
    "duration": 14,
    "start_time": "2022-12-23T11:04:57.275Z"
   },
   {
    "duration": 34,
    "start_time": "2022-12-23T11:04:57.958Z"
   },
   {
    "duration": 5,
    "start_time": "2022-12-23T11:06:35.334Z"
   },
   {
    "duration": 174,
    "start_time": "2022-12-23T11:07:36.956Z"
   },
   {
    "duration": 7,
    "start_time": "2022-12-23T11:09:53.041Z"
   },
   {
    "duration": 25,
    "start_time": "2022-12-23T11:09:53.960Z"
   },
   {
    "duration": 20,
    "start_time": "2022-12-23T11:09:59.454Z"
   },
   {
    "duration": 7,
    "start_time": "2022-12-23T11:10:00.005Z"
   },
   {
    "duration": 13,
    "start_time": "2022-12-23T11:10:00.605Z"
   },
   {
    "duration": 82,
    "start_time": "2022-12-23T11:59:14.310Z"
   },
   {
    "duration": 1346,
    "start_time": "2022-12-23T12:00:51.115Z"
   },
   {
    "duration": 956,
    "start_time": "2022-12-23T12:00:52.464Z"
   },
   {
    "duration": 27,
    "start_time": "2022-12-23T12:00:53.421Z"
   },
   {
    "duration": 12,
    "start_time": "2022-12-23T12:00:53.450Z"
   },
   {
    "duration": 144,
    "start_time": "2022-12-23T12:00:53.465Z"
   },
   {
    "duration": 199,
    "start_time": "2022-12-23T12:00:53.611Z"
   },
   {
    "duration": 63,
    "start_time": "2022-12-23T12:00:53.812Z"
   },
   {
    "duration": 78,
    "start_time": "2022-12-23T12:00:53.877Z"
   },
   {
    "duration": 5,
    "start_time": "2022-12-23T12:00:53.957Z"
   },
   {
    "duration": 20,
    "start_time": "2022-12-23T12:00:53.963Z"
   },
   {
    "duration": 22,
    "start_time": "2022-12-23T12:00:53.985Z"
   },
   {
    "duration": 7,
    "start_time": "2022-12-23T12:00:54.009Z"
   },
   {
    "duration": 24,
    "start_time": "2022-12-23T12:00:54.018Z"
   },
   {
    "duration": 5,
    "start_time": "2022-12-23T12:00:54.045Z"
   },
   {
    "duration": 7,
    "start_time": "2022-12-23T12:00:54.052Z"
   },
   {
    "duration": 26,
    "start_time": "2022-12-23T12:00:54.061Z"
   },
   {
    "duration": 9,
    "start_time": "2022-12-23T12:00:54.089Z"
   },
   {
    "duration": 38,
    "start_time": "2022-12-23T12:00:54.100Z"
   },
   {
    "duration": 3,
    "start_time": "2022-12-23T12:00:54.139Z"
   },
   {
    "duration": 17,
    "start_time": "2022-12-23T12:00:54.144Z"
   },
   {
    "duration": 22,
    "start_time": "2022-12-23T12:00:54.163Z"
   },
   {
    "duration": 29,
    "start_time": "2022-12-23T12:00:54.187Z"
   },
   {
    "duration": 14,
    "start_time": "2022-12-23T12:00:54.236Z"
   },
   {
    "duration": 124,
    "start_time": "2022-12-23T12:00:54.252Z"
   },
   {
    "duration": 23,
    "start_time": "2022-12-23T12:00:54.377Z"
   },
   {
    "duration": 413,
    "start_time": "2022-12-23T12:00:54.401Z"
   },
   {
    "duration": 21,
    "start_time": "2022-12-23T12:00:54.815Z"
   },
   {
    "duration": 27,
    "start_time": "2022-12-23T12:00:54.838Z"
   },
   {
    "duration": 14,
    "start_time": "2022-12-23T12:00:54.867Z"
   },
   {
    "duration": 56,
    "start_time": "2022-12-23T12:00:54.882Z"
   },
   {
    "duration": 539,
    "start_time": "2022-12-23T12:00:54.940Z"
   },
   {
    "duration": 16,
    "start_time": "2022-12-23T12:00:55.480Z"
   },
   {
    "duration": 15,
    "start_time": "2022-12-23T12:00:55.497Z"
   },
   {
    "duration": 33,
    "start_time": "2022-12-23T12:00:55.514Z"
   },
   {
    "duration": 3,
    "start_time": "2022-12-23T12:22:52.569Z"
   },
   {
    "duration": 585,
    "start_time": "2022-12-23T12:22:53.201Z"
   },
   {
    "duration": 21,
    "start_time": "2022-12-23T12:22:53.939Z"
   },
   {
    "duration": 12,
    "start_time": "2022-12-23T12:22:56.786Z"
   },
   {
    "duration": 100,
    "start_time": "2022-12-23T12:22:57.643Z"
   },
   {
    "duration": 230,
    "start_time": "2022-12-23T12:22:58.438Z"
   },
   {
    "duration": 60,
    "start_time": "2022-12-23T12:22:59.881Z"
   },
   {
    "duration": 48,
    "start_time": "2022-12-23T12:23:00.707Z"
   },
   {
    "duration": 6,
    "start_time": "2022-12-23T12:23:01.386Z"
   },
   {
    "duration": 4,
    "start_time": "2022-12-23T12:23:04.702Z"
   },
   {
    "duration": 26,
    "start_time": "2022-12-23T12:23:06.319Z"
   },
   {
    "duration": 14,
    "start_time": "2022-12-23T12:23:08.641Z"
   },
   {
    "duration": 17,
    "start_time": "2022-12-23T12:23:09.410Z"
   },
   {
    "duration": 6,
    "start_time": "2022-12-23T12:23:11.086Z"
   },
   {
    "duration": 6,
    "start_time": "2022-12-23T12:23:13.166Z"
   },
   {
    "duration": 5,
    "start_time": "2022-12-23T12:24:01.509Z"
   },
   {
    "duration": 40,
    "start_time": "2022-12-23T12:24:02.401Z"
   },
   {
    "duration": 4,
    "start_time": "2022-12-23T12:24:04.409Z"
   },
   {
    "duration": 13,
    "start_time": "2022-12-23T12:25:01.167Z"
   },
   {
    "duration": 3,
    "start_time": "2022-12-23T14:07:25.868Z"
   },
   {
    "duration": 589,
    "start_time": "2022-12-23T14:07:26.855Z"
   },
   {
    "duration": 25,
    "start_time": "2022-12-23T14:07:29.541Z"
   },
   {
    "duration": 14,
    "start_time": "2022-12-23T14:07:31.530Z"
   },
   {
    "duration": 104,
    "start_time": "2022-12-23T14:07:32.114Z"
   },
   {
    "duration": 212,
    "start_time": "2022-12-23T14:07:32.786Z"
   },
   {
    "duration": 63,
    "start_time": "2022-12-23T14:07:33.717Z"
   },
   {
    "duration": 49,
    "start_time": "2022-12-23T14:07:34.000Z"
   },
   {
    "duration": 5,
    "start_time": "2022-12-23T14:07:34.288Z"
   },
   {
    "duration": 4,
    "start_time": "2022-12-23T14:07:35.264Z"
   },
   {
    "duration": 25,
    "start_time": "2022-12-23T14:07:35.684Z"
   },
   {
    "duration": 9,
    "start_time": "2022-12-23T14:07:35.900Z"
   },
   {
    "duration": 12,
    "start_time": "2022-12-23T14:07:36.288Z"
   },
   {
    "duration": 4,
    "start_time": "2022-12-23T14:07:36.708Z"
   },
   {
    "duration": 4,
    "start_time": "2022-12-23T14:07:36.849Z"
   },
   {
    "duration": 9,
    "start_time": "2022-12-23T14:07:37.001Z"
   },
   {
    "duration": 9,
    "start_time": "2022-12-23T14:11:47.031Z"
   },
   {
    "duration": 16,
    "start_time": "2022-12-23T14:11:59.562Z"
   },
   {
    "duration": 6,
    "start_time": "2022-12-23T14:13:10.232Z"
   },
   {
    "duration": 34,
    "start_time": "2022-12-23T14:13:11.024Z"
   },
   {
    "duration": 4,
    "start_time": "2022-12-23T14:13:11.762Z"
   },
   {
    "duration": 14,
    "start_time": "2022-12-23T14:13:12.327Z"
   },
   {
    "duration": 12,
    "start_time": "2022-12-23T14:13:12.445Z"
   },
   {
    "duration": 21,
    "start_time": "2022-12-23T14:13:14.835Z"
   },
   {
    "duration": 11,
    "start_time": "2022-12-23T14:13:15.145Z"
   },
   {
    "duration": 166,
    "start_time": "2022-12-23T14:13:15.939Z"
   },
   {
    "duration": 93,
    "start_time": "2022-12-23T14:13:16.466Z"
   },
   {
    "duration": 371,
    "start_time": "2022-12-23T14:13:16.596Z"
   },
   {
    "duration": 12,
    "start_time": "2022-12-23T14:13:17.118Z"
   },
   {
    "duration": 39,
    "start_time": "2022-12-23T14:13:17.401Z"
   },
   {
    "duration": 14,
    "start_time": "2022-12-23T14:13:17.517Z"
   },
   {
    "duration": 36,
    "start_time": "2022-12-23T14:13:17.649Z"
   },
   {
    "duration": 11,
    "start_time": "2022-12-23T14:13:17.798Z"
   },
   {
    "duration": 12,
    "start_time": "2022-12-23T14:13:35.853Z"
   },
   {
    "duration": 3,
    "start_time": "2022-12-23T14:13:45.835Z"
   },
   {
    "duration": 601,
    "start_time": "2022-12-23T14:13:45.910Z"
   },
   {
    "duration": 21,
    "start_time": "2022-12-23T14:13:46.513Z"
   },
   {
    "duration": 12,
    "start_time": "2022-12-23T14:13:46.536Z"
   },
   {
    "duration": 131,
    "start_time": "2022-12-23T14:13:46.550Z"
   },
   {
    "duration": 214,
    "start_time": "2022-12-23T14:13:46.682Z"
   },
   {
    "duration": 63,
    "start_time": "2022-12-23T14:13:46.904Z"
   },
   {
    "duration": 75,
    "start_time": "2022-12-23T14:13:46.969Z"
   },
   {
    "duration": 6,
    "start_time": "2022-12-23T14:13:47.045Z"
   },
   {
    "duration": 4,
    "start_time": "2022-12-23T14:13:47.053Z"
   },
   {
    "duration": 21,
    "start_time": "2022-12-23T14:13:47.059Z"
   },
   {
    "duration": 31,
    "start_time": "2022-12-23T14:13:47.082Z"
   },
   {
    "duration": 15,
    "start_time": "2022-12-23T14:13:47.115Z"
   },
   {
    "duration": 5,
    "start_time": "2022-12-23T14:13:47.132Z"
   },
   {
    "duration": 8,
    "start_time": "2022-12-23T14:13:47.139Z"
   },
   {
    "duration": 12,
    "start_time": "2022-12-23T14:13:47.149Z"
   },
   {
    "duration": 6,
    "start_time": "2022-12-23T14:13:47.163Z"
   },
   {
    "duration": 40,
    "start_time": "2022-12-23T14:13:47.203Z"
   },
   {
    "duration": 3,
    "start_time": "2022-12-23T14:13:47.331Z"
   },
   {
    "duration": 16,
    "start_time": "2022-12-23T14:13:47.404Z"
   },
   {
    "duration": 15,
    "start_time": "2022-12-23T14:13:47.437Z"
   },
   {
    "duration": 23,
    "start_time": "2022-12-23T14:13:47.602Z"
   },
   {
    "duration": 12,
    "start_time": "2022-12-23T14:13:47.627Z"
   },
   {
    "duration": 118,
    "start_time": "2022-12-23T14:13:47.757Z"
   },
   {
    "duration": 29,
    "start_time": "2022-12-23T14:13:47.880Z"
   },
   {
    "duration": 387,
    "start_time": "2022-12-23T14:13:47.911Z"
   },
   {
    "duration": 13,
    "start_time": "2022-12-23T14:13:48.300Z"
   },
   {
    "duration": 32,
    "start_time": "2022-12-23T14:13:48.314Z"
   },
   {
    "duration": 14,
    "start_time": "2022-12-23T14:13:48.349Z"
   },
   {
    "duration": 68,
    "start_time": "2022-12-23T14:13:48.365Z"
   },
   {
    "duration": 12,
    "start_time": "2022-12-23T14:13:48.435Z"
   },
   {
    "duration": 16,
    "start_time": "2022-12-23T14:13:48.513Z"
   },
   {
    "duration": 14,
    "start_time": "2022-12-23T14:13:48.531Z"
   },
   {
    "duration": 13,
    "start_time": "2022-12-23T14:13:48.547Z"
   },
   {
    "duration": 3,
    "start_time": "2022-12-23T14:14:09.046Z"
   },
   {
    "duration": 599,
    "start_time": "2022-12-23T14:14:09.116Z"
   },
   {
    "duration": 22,
    "start_time": "2022-12-23T14:14:09.717Z"
   },
   {
    "duration": 16,
    "start_time": "2022-12-23T14:14:09.741Z"
   },
   {
    "duration": 120,
    "start_time": "2022-12-23T14:14:09.759Z"
   },
   {
    "duration": 234,
    "start_time": "2022-12-23T14:14:09.881Z"
   },
   {
    "duration": 95,
    "start_time": "2022-12-23T14:14:10.117Z"
   },
   {
    "duration": 54,
    "start_time": "2022-12-23T14:14:10.214Z"
   },
   {
    "duration": 6,
    "start_time": "2022-12-23T14:14:10.270Z"
   },
   {
    "duration": 17,
    "start_time": "2022-12-23T14:14:10.304Z"
   },
   {
    "duration": 27,
    "start_time": "2022-12-23T14:14:10.322Z"
   },
   {
    "duration": 10,
    "start_time": "2022-12-23T14:14:10.351Z"
   },
   {
    "duration": 30,
    "start_time": "2022-12-23T14:14:10.362Z"
   },
   {
    "duration": 19,
    "start_time": "2022-12-23T14:14:10.394Z"
   },
   {
    "duration": 20,
    "start_time": "2022-12-23T14:14:10.415Z"
   },
   {
    "duration": 30,
    "start_time": "2022-12-23T14:14:10.437Z"
   },
   {
    "duration": 18,
    "start_time": "2022-12-23T14:14:10.470Z"
   },
   {
    "duration": 47,
    "start_time": "2022-12-23T14:14:10.490Z"
   },
   {
    "duration": 3,
    "start_time": "2022-12-23T14:14:10.538Z"
   },
   {
    "duration": 11,
    "start_time": "2022-12-23T14:14:10.614Z"
   },
   {
    "duration": 11,
    "start_time": "2022-12-23T14:14:10.643Z"
   },
   {
    "duration": 27,
    "start_time": "2022-12-23T14:14:10.796Z"
   },
   {
    "duration": 12,
    "start_time": "2022-12-23T14:14:11.500Z"
   },
   {
    "duration": 135,
    "start_time": "2022-12-23T14:14:12.100Z"
   },
   {
    "duration": 22,
    "start_time": "2022-12-23T14:14:12.237Z"
   },
   {
    "duration": 347,
    "start_time": "2022-12-23T14:14:12.304Z"
   },
   {
    "duration": 12,
    "start_time": "2022-12-23T14:14:12.653Z"
   },
   {
    "duration": 32,
    "start_time": "2022-12-23T14:14:13.025Z"
   },
   {
    "duration": 14,
    "start_time": "2022-12-23T14:14:13.516Z"
   },
   {
    "duration": 48,
    "start_time": "2022-12-23T14:14:13.557Z"
   },
   {
    "duration": 28,
    "start_time": "2022-12-23T14:14:13.608Z"
   },
   {
    "duration": 14,
    "start_time": "2022-12-23T14:14:13.900Z"
   },
   {
    "duration": 28,
    "start_time": "2022-12-23T14:14:13.933Z"
   },
   {
    "duration": 10,
    "start_time": "2022-12-23T14:14:14.435Z"
   },
   {
    "duration": 5,
    "start_time": "2022-12-23T14:15:19.228Z"
   },
   {
    "duration": 4,
    "start_time": "2022-12-23T14:15:45.136Z"
   },
   {
    "duration": 4,
    "start_time": "2022-12-23T14:15:48.461Z"
   },
   {
    "duration": 11,
    "start_time": "2022-12-23T14:16:24.399Z"
   },
   {
    "duration": 9,
    "start_time": "2022-12-23T14:21:00.625Z"
   },
   {
    "duration": 14,
    "start_time": "2022-12-23T14:21:16.549Z"
   },
   {
    "duration": 11,
    "start_time": "2022-12-23T14:21:28.860Z"
   },
   {
    "duration": 9,
    "start_time": "2022-12-23T14:21:37.038Z"
   },
   {
    "duration": 101,
    "start_time": "2022-12-23T14:22:21.463Z"
   },
   {
    "duration": 9,
    "start_time": "2022-12-23T14:22:49.666Z"
   },
   {
    "duration": 9,
    "start_time": "2022-12-23T14:22:57.907Z"
   },
   {
    "duration": 49,
    "start_time": "2022-12-23T14:23:07.039Z"
   },
   {
    "duration": 160,
    "start_time": "2022-12-23T14:24:14.922Z"
   },
   {
    "duration": 141,
    "start_time": "2022-12-23T14:26:30.062Z"
   },
   {
    "duration": 28,
    "start_time": "2022-12-23T14:26:38.122Z"
   },
   {
    "duration": 22,
    "start_time": "2022-12-23T14:29:29.201Z"
   },
   {
    "duration": 14,
    "start_time": "2022-12-23T14:33:47.121Z"
   },
   {
    "duration": 19,
    "start_time": "2022-12-23T14:33:51.354Z"
   },
   {
    "duration": 18,
    "start_time": "2022-12-23T14:34:01.084Z"
   },
   {
    "duration": 24,
    "start_time": "2022-12-23T14:34:38.478Z"
   },
   {
    "duration": 41,
    "start_time": "2022-12-23T14:35:02.641Z"
   },
   {
    "duration": 165,
    "start_time": "2022-12-23T14:35:16.583Z"
   },
   {
    "duration": 148,
    "start_time": "2022-12-23T14:35:33.424Z"
   },
   {
    "duration": 111,
    "start_time": "2022-12-23T14:35:37.808Z"
   },
   {
    "duration": 59,
    "start_time": "2022-12-23T14:35:57.906Z"
   },
   {
    "duration": 106,
    "start_time": "2022-12-23T14:36:03.986Z"
   },
   {
    "duration": 29,
    "start_time": "2022-12-23T14:36:04.936Z"
   },
   {
    "duration": 27,
    "start_time": "2022-12-23T14:37:14.006Z"
   },
   {
    "duration": 15,
    "start_time": "2022-12-23T14:37:43.047Z"
   },
   {
    "duration": 27,
    "start_time": "2022-12-23T14:40:20.746Z"
   },
   {
    "duration": 7,
    "start_time": "2022-12-23T14:40:27.002Z"
   },
   {
    "duration": 7,
    "start_time": "2022-12-23T14:40:40.825Z"
   },
   {
    "duration": 81,
    "start_time": "2022-12-23T14:40:58.345Z"
   },
   {
    "duration": 132,
    "start_time": "2022-12-23T14:42:32.648Z"
   },
   {
    "duration": 117,
    "start_time": "2022-12-23T14:43:26.621Z"
   },
   {
    "duration": 3,
    "start_time": "2022-12-23T14:44:04.373Z"
   },
   {
    "duration": 547,
    "start_time": "2022-12-23T14:44:04.425Z"
   },
   {
    "duration": 19,
    "start_time": "2022-12-23T14:44:04.974Z"
   },
   {
    "duration": 11,
    "start_time": "2022-12-23T14:44:04.995Z"
   },
   {
    "duration": 107,
    "start_time": "2022-12-23T14:44:05.007Z"
   },
   {
    "duration": 177,
    "start_time": "2022-12-23T14:44:05.115Z"
   },
   {
    "duration": 76,
    "start_time": "2022-12-23T14:44:05.294Z"
   },
   {
    "duration": 65,
    "start_time": "2022-12-23T14:44:05.372Z"
   },
   {
    "duration": 5,
    "start_time": "2022-12-23T14:44:05.440Z"
   },
   {
    "duration": 4,
    "start_time": "2022-12-23T14:44:05.447Z"
   },
   {
    "duration": 17,
    "start_time": "2022-12-23T14:44:05.453Z"
   },
   {
    "duration": 9,
    "start_time": "2022-12-23T14:44:05.923Z"
   },
   {
    "duration": 11,
    "start_time": "2022-12-23T14:44:06.723Z"
   },
   {
    "duration": 4,
    "start_time": "2022-12-23T14:44:07.656Z"
   },
   {
    "duration": 4,
    "start_time": "2022-12-23T14:44:07.863Z"
   },
   {
    "duration": 8,
    "start_time": "2022-12-23T14:44:08.032Z"
   },
   {
    "duration": 8,
    "start_time": "2022-12-23T14:44:09.960Z"
   },
   {
    "duration": 39,
    "start_time": "2022-12-23T14:44:10.604Z"
   },
   {
    "duration": 4,
    "start_time": "2022-12-23T14:44:11.187Z"
   },
   {
    "duration": 12,
    "start_time": "2022-12-23T14:44:11.285Z"
   },
   {
    "duration": 11,
    "start_time": "2022-12-23T14:44:11.318Z"
   },
   {
    "duration": 140,
    "start_time": "2022-12-23T14:44:11.342Z"
   },
   {
    "duration": 10,
    "start_time": "2022-12-23T14:44:11.521Z"
   },
   {
    "duration": 122,
    "start_time": "2022-12-23T14:44:12.725Z"
   },
   {
    "duration": 26,
    "start_time": "2022-12-23T14:44:13.893Z"
   },
   {
    "duration": 503,
    "start_time": "2022-12-23T14:44:14.423Z"
   },
   {
    "duration": 13,
    "start_time": "2022-12-23T14:44:15.571Z"
   },
   {
    "duration": 27,
    "start_time": "2022-12-23T14:44:15.919Z"
   },
   {
    "duration": 14,
    "start_time": "2022-12-23T14:44:16.115Z"
   },
   {
    "duration": 32,
    "start_time": "2022-12-23T14:44:16.363Z"
   },
   {
    "duration": 16,
    "start_time": "2022-12-23T14:44:17.431Z"
   },
   {
    "duration": 4,
    "start_time": "2022-12-23T14:44:36.469Z"
   },
   {
    "duration": 539,
    "start_time": "2022-12-23T14:44:36.522Z"
   },
   {
    "duration": 22,
    "start_time": "2022-12-23T14:44:37.062Z"
   },
   {
    "duration": 14,
    "start_time": "2022-12-23T14:44:37.085Z"
   },
   {
    "duration": 110,
    "start_time": "2022-12-23T14:44:37.105Z"
   },
   {
    "duration": 210,
    "start_time": "2022-12-23T14:44:37.217Z"
   },
   {
    "duration": 88,
    "start_time": "2022-12-23T14:44:37.429Z"
   },
   {
    "duration": 57,
    "start_time": "2022-12-23T14:44:37.519Z"
   },
   {
    "duration": 6,
    "start_time": "2022-12-23T14:44:37.604Z"
   },
   {
    "duration": 17,
    "start_time": "2022-12-23T14:44:37.612Z"
   },
   {
    "duration": 20,
    "start_time": "2022-12-23T14:44:37.631Z"
   },
   {
    "duration": 10,
    "start_time": "2022-12-23T14:44:37.653Z"
   },
   {
    "duration": 13,
    "start_time": "2022-12-23T14:44:37.665Z"
   },
   {
    "duration": 26,
    "start_time": "2022-12-23T14:44:37.680Z"
   },
   {
    "duration": 4,
    "start_time": "2022-12-23T14:44:39.516Z"
   },
   {
    "duration": 8,
    "start_time": "2022-12-23T14:44:39.957Z"
   },
   {
    "duration": 6,
    "start_time": "2022-12-23T14:44:43.351Z"
   },
   {
    "duration": 35,
    "start_time": "2022-12-23T14:44:43.854Z"
   },
   {
    "duration": 3,
    "start_time": "2022-12-23T14:44:51.391Z"
   },
   {
    "duration": 12,
    "start_time": "2022-12-23T14:44:53.079Z"
   },
   {
    "duration": 12,
    "start_time": "2022-12-23T14:44:55.675Z"
   },
   {
    "duration": 162,
    "start_time": "2022-12-23T14:45:09.989Z"
   },
   {
    "duration": 130,
    "start_time": "2022-12-23T14:45:56.132Z"
   },
   {
    "duration": 19,
    "start_time": "2022-12-23T14:46:01.526Z"
   },
   {
    "duration": 15,
    "start_time": "2022-12-23T14:46:56.731Z"
   },
   {
    "duration": 151,
    "start_time": "2022-12-23T14:48:02.627Z"
   },
   {
    "duration": 15,
    "start_time": "2022-12-23T14:48:02.913Z"
   },
   {
    "duration": 13,
    "start_time": "2022-12-23T14:49:06.812Z"
   },
   {
    "duration": 22,
    "start_time": "2022-12-23T14:50:06.430Z"
   },
   {
    "duration": 1093,
    "start_time": "2022-12-23T14:52:58.611Z"
   },
   {
    "duration": 3,
    "start_time": "2022-12-23T14:53:07.929Z"
   },
   {
    "duration": 4,
    "start_time": "2022-12-23T14:53:11.512Z"
   },
   {
    "duration": 3,
    "start_time": "2022-12-23T14:53:34.887Z"
   },
   {
    "duration": 3,
    "start_time": "2022-12-23T14:53:44.525Z"
   },
   {
    "duration": 3,
    "start_time": "2022-12-23T14:55:00.953Z"
   },
   {
    "duration": 88,
    "start_time": "2022-12-23T14:55:21.113Z"
   },
   {
    "duration": 395,
    "start_time": "2022-12-23T14:55:29.582Z"
   },
   {
    "duration": 76,
    "start_time": "2022-12-23T14:55:46.710Z"
   },
   {
    "duration": 414,
    "start_time": "2022-12-23T14:55:50.283Z"
   },
   {
    "duration": 395,
    "start_time": "2022-12-23T14:56:39.265Z"
   },
   {
    "duration": 508,
    "start_time": "2022-12-23T14:56:43.243Z"
   },
   {
    "duration": 529,
    "start_time": "2022-12-23T14:57:34.914Z"
   },
   {
    "duration": 3,
    "start_time": "2022-12-23T14:57:41.293Z"
   },
   {
    "duration": 570,
    "start_time": "2022-12-23T14:57:41.355Z"
   },
   {
    "duration": 20,
    "start_time": "2022-12-23T14:57:41.927Z"
   },
   {
    "duration": 12,
    "start_time": "2022-12-23T14:57:41.949Z"
   },
   {
    "duration": 123,
    "start_time": "2022-12-23T14:57:41.963Z"
   },
   {
    "duration": 210,
    "start_time": "2022-12-23T14:57:42.087Z"
   },
   {
    "duration": 62,
    "start_time": "2022-12-23T14:57:42.299Z"
   },
   {
    "duration": 66,
    "start_time": "2022-12-23T14:57:42.363Z"
   },
   {
    "duration": 5,
    "start_time": "2022-12-23T14:57:42.431Z"
   },
   {
    "duration": 4,
    "start_time": "2022-12-23T14:57:42.438Z"
   },
   {
    "duration": 19,
    "start_time": "2022-12-23T14:57:42.444Z"
   },
   {
    "duration": 8,
    "start_time": "2022-12-23T14:57:42.464Z"
   },
   {
    "duration": 32,
    "start_time": "2022-12-23T14:57:42.473Z"
   },
   {
    "duration": 3,
    "start_time": "2022-12-23T14:57:43.210Z"
   },
   {
    "duration": 4,
    "start_time": "2022-12-23T14:57:43.247Z"
   },
   {
    "duration": 24,
    "start_time": "2022-12-23T14:57:43.261Z"
   },
   {
    "duration": 6,
    "start_time": "2022-12-23T14:57:43.381Z"
   },
   {
    "duration": 33,
    "start_time": "2022-12-23T14:57:43.513Z"
   },
   {
    "duration": 4,
    "start_time": "2022-12-23T14:57:43.623Z"
   },
   {
    "duration": 12,
    "start_time": "2022-12-23T14:57:46.914Z"
   },
   {
    "duration": 123,
    "start_time": "2022-12-23T14:57:47.184Z"
   },
   {
    "duration": 17,
    "start_time": "2022-12-23T14:57:47.583Z"
   },
   {
    "duration": 5,
    "start_time": "2022-12-23T14:57:48.462Z"
   },
   {
    "duration": 418,
    "start_time": "2022-12-23T14:57:50.519Z"
   },
   {
    "duration": 9,
    "start_time": "2022-12-23T15:00:54.908Z"
   },
   {
    "duration": 12,
    "start_time": "2022-12-23T15:01:02.132Z"
   },
   {
    "duration": 3,
    "start_time": "2022-12-23T15:01:22.535Z"
   },
   {
    "duration": 575,
    "start_time": "2022-12-23T15:01:22.615Z"
   },
   {
    "duration": 20,
    "start_time": "2022-12-23T15:01:23.191Z"
   },
   {
    "duration": 12,
    "start_time": "2022-12-23T15:01:23.408Z"
   },
   {
    "duration": 99,
    "start_time": "2022-12-23T15:01:23.956Z"
   },
   {
    "duration": 187,
    "start_time": "2022-12-23T15:01:24.432Z"
   },
   {
    "duration": 66,
    "start_time": "2022-12-23T15:01:26.562Z"
   },
   {
    "duration": 48,
    "start_time": "2022-12-23T15:01:28.616Z"
   },
   {
    "duration": 6,
    "start_time": "2022-12-23T15:01:30.322Z"
   },
   {
    "duration": 3,
    "start_time": "2022-12-23T15:01:35.863Z"
   },
   {
    "duration": 18,
    "start_time": "2022-12-23T15:01:38.990Z"
   },
   {
    "duration": 8,
    "start_time": "2022-12-23T15:01:40.847Z"
   },
   {
    "duration": 11,
    "start_time": "2022-12-23T15:01:43.991Z"
   },
   {
    "duration": 3,
    "start_time": "2022-12-23T15:01:49.167Z"
   },
   {
    "duration": 4,
    "start_time": "2022-12-23T15:01:49.761Z"
   },
   {
    "duration": 12,
    "start_time": "2022-12-23T15:02:07.811Z"
   },
   {
    "duration": 14,
    "start_time": "2022-12-23T15:04:25.244Z"
   },
   {
    "duration": 19,
    "start_time": "2022-12-23T15:04:39.053Z"
   },
   {
    "duration": 20,
    "start_time": "2022-12-23T15:05:13.731Z"
   },
   {
    "duration": 20,
    "start_time": "2022-12-23T15:05:21.611Z"
   },
   {
    "duration": 28,
    "start_time": "2022-12-23T15:05:30.025Z"
   },
   {
    "duration": 18,
    "start_time": "2022-12-23T15:06:06.982Z"
   },
   {
    "duration": 10,
    "start_time": "2022-12-23T15:06:50.114Z"
   },
   {
    "duration": 20,
    "start_time": "2022-12-23T15:06:55.997Z"
   },
   {
    "duration": 12,
    "start_time": "2022-12-23T15:07:23.185Z"
   },
   {
    "duration": 12,
    "start_time": "2022-12-23T15:07:26.389Z"
   },
   {
    "duration": 8,
    "start_time": "2022-12-23T15:08:36.257Z"
   },
   {
    "duration": 13,
    "start_time": "2022-12-23T15:08:39.387Z"
   },
   {
    "duration": 4,
    "start_time": "2022-12-23T15:09:07.071Z"
   },
   {
    "duration": 631,
    "start_time": "2022-12-23T15:09:07.147Z"
   },
   {
    "duration": 19,
    "start_time": "2022-12-23T15:09:07.779Z"
   },
   {
    "duration": 12,
    "start_time": "2022-12-23T15:09:07.800Z"
   },
   {
    "duration": 130,
    "start_time": "2022-12-23T15:09:07.813Z"
   },
   {
    "duration": 191,
    "start_time": "2022-12-23T15:09:07.945Z"
   },
   {
    "duration": 83,
    "start_time": "2022-12-23T15:09:08.138Z"
   },
   {
    "duration": 49,
    "start_time": "2022-12-23T15:09:09.052Z"
   },
   {
    "duration": 7,
    "start_time": "2022-12-23T15:09:09.426Z"
   },
   {
    "duration": 4,
    "start_time": "2022-12-23T15:09:10.565Z"
   },
   {
    "duration": 17,
    "start_time": "2022-12-23T15:09:10.926Z"
   },
   {
    "duration": 10,
    "start_time": "2022-12-23T15:09:11.579Z"
   },
   {
    "duration": 11,
    "start_time": "2022-12-23T15:09:12.520Z"
   },
   {
    "duration": 5,
    "start_time": "2022-12-23T15:09:13.452Z"
   },
   {
    "duration": 4,
    "start_time": "2022-12-23T15:09:13.680Z"
   },
   {
    "duration": 15,
    "start_time": "2022-12-23T15:09:14.547Z"
   },
   {
    "duration": 14,
    "start_time": "2022-12-23T15:09:19.906Z"
   },
   {
    "duration": 14,
    "start_time": "2022-12-23T15:10:12.388Z"
   },
   {
    "duration": 13,
    "start_time": "2022-12-23T15:10:24.025Z"
   },
   {
    "duration": 4,
    "start_time": "2022-12-23T15:11:59.389Z"
   },
   {
    "duration": 611,
    "start_time": "2022-12-23T15:11:59.446Z"
   },
   {
    "duration": 21,
    "start_time": "2022-12-23T15:12:00.059Z"
   },
   {
    "duration": 15,
    "start_time": "2022-12-23T15:12:00.082Z"
   },
   {
    "duration": 120,
    "start_time": "2022-12-23T15:12:00.105Z"
   },
   {
    "duration": 233,
    "start_time": "2022-12-23T15:12:00.227Z"
   },
   {
    "duration": 89,
    "start_time": "2022-12-23T15:12:00.462Z"
   },
   {
    "duration": 70,
    "start_time": "2022-12-23T15:12:00.553Z"
   },
   {
    "duration": 7,
    "start_time": "2022-12-23T15:12:00.626Z"
   },
   {
    "duration": 33,
    "start_time": "2022-12-23T15:12:00.636Z"
   },
   {
    "duration": 46,
    "start_time": "2022-12-23T15:12:00.671Z"
   },
   {
    "duration": 37,
    "start_time": "2022-12-23T15:12:00.718Z"
   },
   {
    "duration": 46,
    "start_time": "2022-12-23T15:12:00.757Z"
   },
   {
    "duration": 41,
    "start_time": "2022-12-23T15:12:00.805Z"
   },
   {
    "duration": 57,
    "start_time": "2022-12-23T15:12:00.848Z"
   },
   {
    "duration": 46,
    "start_time": "2022-12-23T15:12:00.908Z"
   },
   {
    "duration": 14,
    "start_time": "2022-12-23T15:12:00.956Z"
   },
   {
    "duration": 54,
    "start_time": "2022-12-23T15:12:00.972Z"
   },
   {
    "duration": 3,
    "start_time": "2022-12-23T15:12:01.028Z"
   },
   {
    "duration": 13,
    "start_time": "2022-12-23T15:12:01.086Z"
   },
   {
    "duration": 162,
    "start_time": "2022-12-23T15:12:01.101Z"
   },
   {
    "duration": 17,
    "start_time": "2022-12-23T15:12:01.265Z"
   },
   {
    "duration": 26,
    "start_time": "2022-12-23T15:12:01.283Z"
   },
   {
    "duration": 459,
    "start_time": "2022-12-23T15:12:01.311Z"
   },
   {
    "duration": 12,
    "start_time": "2022-12-23T15:12:01.772Z"
   },
   {
    "duration": 135,
    "start_time": "2022-12-23T15:12:01.785Z"
   },
   {
    "duration": 24,
    "start_time": "2022-12-23T15:12:01.922Z"
   },
   {
    "duration": 436,
    "start_time": "2022-12-23T15:12:01.947Z"
   },
   {
    "duration": 23,
    "start_time": "2022-12-23T15:12:02.385Z"
   },
   {
    "duration": 37,
    "start_time": "2022-12-23T15:12:02.410Z"
   },
   {
    "duration": 13,
    "start_time": "2022-12-23T15:12:02.449Z"
   },
   {
    "duration": 42,
    "start_time": "2022-12-23T15:12:02.464Z"
   },
   {
    "duration": 12,
    "start_time": "2022-12-23T15:12:02.508Z"
   },
   {
    "duration": 14,
    "start_time": "2022-12-23T15:12:02.826Z"
   },
   {
    "duration": 5,
    "start_time": "2022-12-23T15:12:02.998Z"
   },
   {
    "duration": 10,
    "start_time": "2022-12-23T15:12:03.498Z"
   },
   {
    "duration": 3,
    "start_time": "2022-12-23T15:14:12.714Z"
   },
   {
    "duration": 549,
    "start_time": "2022-12-23T15:14:12.828Z"
   },
   {
    "duration": 21,
    "start_time": "2022-12-23T15:14:13.379Z"
   },
   {
    "duration": 13,
    "start_time": "2022-12-23T15:14:13.402Z"
   },
   {
    "duration": 120,
    "start_time": "2022-12-23T15:14:13.417Z"
   },
   {
    "duration": 228,
    "start_time": "2022-12-23T15:14:13.538Z"
   },
   {
    "duration": 70,
    "start_time": "2022-12-23T15:14:13.768Z"
   },
   {
    "duration": 76,
    "start_time": "2022-12-23T15:14:13.840Z"
   },
   {
    "duration": 6,
    "start_time": "2022-12-23T15:14:13.917Z"
   },
   {
    "duration": 12,
    "start_time": "2022-12-23T15:14:13.925Z"
   },
   {
    "duration": 19,
    "start_time": "2022-12-23T15:14:13.939Z"
   },
   {
    "duration": 6,
    "start_time": "2022-12-23T15:14:13.960Z"
   },
   {
    "duration": 17,
    "start_time": "2022-12-23T15:14:13.967Z"
   },
   {
    "duration": 20,
    "start_time": "2022-12-23T15:14:13.985Z"
   },
   {
    "duration": 16,
    "start_time": "2022-12-23T15:14:14.006Z"
   },
   {
    "duration": 24,
    "start_time": "2022-12-23T15:14:14.023Z"
   },
   {
    "duration": 8,
    "start_time": "2022-12-23T15:14:14.049Z"
   },
   {
    "duration": 36,
    "start_time": "2022-12-23T15:14:14.136Z"
   },
   {
    "duration": 3,
    "start_time": "2022-12-23T15:14:14.262Z"
   },
   {
    "duration": 11,
    "start_time": "2022-12-23T15:14:14.346Z"
   },
   {
    "duration": 133,
    "start_time": "2022-12-23T15:14:14.414Z"
   },
   {
    "duration": 15,
    "start_time": "2022-12-23T15:14:14.549Z"
   },
   {
    "duration": 8,
    "start_time": "2022-12-23T15:14:14.566Z"
   },
   {
    "duration": 430,
    "start_time": "2022-12-23T15:14:14.575Z"
   },
   {
    "duration": 11,
    "start_time": "2022-12-23T15:14:15.007Z"
   },
   {
    "duration": 151,
    "start_time": "2022-12-23T15:14:15.020Z"
   },
   {
    "duration": 22,
    "start_time": "2022-12-23T15:14:15.173Z"
   },
   {
    "duration": 404,
    "start_time": "2022-12-23T15:14:15.205Z"
   },
   {
    "duration": 11,
    "start_time": "2022-12-23T15:14:15.611Z"
   },
   {
    "duration": 40,
    "start_time": "2022-12-23T15:14:15.623Z"
   },
   {
    "duration": 13,
    "start_time": "2022-12-23T15:14:15.665Z"
   },
   {
    "duration": 45,
    "start_time": "2022-12-23T15:14:15.679Z"
   },
   {
    "duration": 10,
    "start_time": "2022-12-23T15:14:15.726Z"
   },
   {
    "duration": 30,
    "start_time": "2022-12-23T15:14:15.738Z"
   },
   {
    "duration": 5,
    "start_time": "2022-12-23T15:14:16.048Z"
   },
   {
    "duration": 9,
    "start_time": "2022-12-23T15:14:16.219Z"
   }
  ],
  "kernelspec": {
   "display_name": "Python 3 (ipykernel)",
   "language": "python",
   "name": "python3"
  },
  "language_info": {
   "codemirror_mode": {
    "name": "ipython",
    "version": 3
   },
   "file_extension": ".py",
   "mimetype": "text/x-python",
   "name": "python",
   "nbconvert_exporter": "python",
   "pygments_lexer": "ipython3",
   "version": "3.9.12"
  },
  "toc": {
   "base_numbering": 1,
   "nav_menu": {},
   "number_sections": true,
   "sideBar": true,
   "skip_h1_title": true,
   "title_cell": "Table of Contents",
   "title_sidebar": "Contents",
   "toc_cell": false,
   "toc_position": {},
   "toc_section_display": true,
   "toc_window_display": false
  }
 },
 "nbformat": 4,
 "nbformat_minor": 5
}
